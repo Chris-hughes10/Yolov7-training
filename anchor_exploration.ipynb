{
 "cells": [
  {
   "cell_type": "code",
   "execution_count": 1,
   "id": "6509bd10-782c-4e32-a450-2c02f575b4ea",
   "metadata": {},
   "outputs": [],
   "source": [
    "%load_ext autoreload\n",
    "%autoreload 2"
   ]
  },
  {
   "cell_type": "code",
   "execution_count": 2,
   "id": "37181908-561b-4028-99b4-1cb5b98f2665",
   "metadata": {},
   "outputs": [],
   "source": [
    "from pathlib import Path\n",
    "\n",
    "import pandas as pd"
   ]
  },
  {
   "cell_type": "code",
   "execution_count": 3,
   "id": "081350df-c28a-403f-8949-493dffe5467f",
   "metadata": {},
   "outputs": [],
   "source": [
    "data_path = \"data/cars\"\n",
    "data_path = Path(data_path)\n",
    "images_path = data_path / \"training_images\"\n",
    "annotations_file_path = data_path / \"annotations.csv\""
   ]
  },
  {
   "cell_type": "code",
   "execution_count": 4,
   "id": "f4cc3a24-cb0f-41ed-909c-67a632790bdd",
   "metadata": {},
   "outputs": [
    {
     "name": "stderr",
     "output_type": "stream",
     "text": [
      "/opt/conda/lib/python3.7/site-packages/tqdm/auto.py:22: TqdmWarning: IProgress not found. Please update jupyter and ipywidgets. See https://ipywidgets.readthedocs.io/en/stable/user_install.html\n",
      "  from .autonotebook import tqdm as notebook_tqdm\n",
      "INFO:pytorch_accelerated:Setting random seeds\n"
     ]
    }
   ],
   "source": [
    "from example.train_cars import load_cars_df"
   ]
  },
  {
   "cell_type": "code",
   "execution_count": 5,
   "id": "35f3fd43-97ba-446c-a463-e7c26899a313",
   "metadata": {},
   "outputs": [],
   "source": [
    "train_df, valid_df, lookups = load_cars_df(annotations_file_path, images_path)"
   ]
  },
  {
   "cell_type": "code",
   "execution_count": 6,
   "id": "b4efe4cf-89a3-4007-ad67-9335aa87a043",
   "metadata": {},
   "outputs": [
    {
     "data": {
      "text/html": [
       "<div>\n",
       "<style scoped>\n",
       "    .dataframe tbody tr th:only-of-type {\n",
       "        vertical-align: middle;\n",
       "    }\n",
       "\n",
       "    .dataframe tbody tr th {\n",
       "        vertical-align: top;\n",
       "    }\n",
       "\n",
       "    .dataframe thead th {\n",
       "        text-align: right;\n",
       "    }\n",
       "</style>\n",
       "<table border=\"1\" class=\"dataframe\">\n",
       "  <thead>\n",
       "    <tr style=\"text-align: right;\">\n",
       "      <th></th>\n",
       "      <th>image</th>\n",
       "      <th>xmin</th>\n",
       "      <th>ymin</th>\n",
       "      <th>xmax</th>\n",
       "      <th>ymax</th>\n",
       "      <th>class_name</th>\n",
       "      <th>has_annotation</th>\n",
       "      <th>image_id</th>\n",
       "      <th>class_id</th>\n",
       "    </tr>\n",
       "  </thead>\n",
       "  <tbody>\n",
       "    <tr>\n",
       "      <th>0</th>\n",
       "      <td>vid_4_1000.jpg</td>\n",
       "      <td>281.259045</td>\n",
       "      <td>187.035071</td>\n",
       "      <td>327.727931</td>\n",
       "      <td>223.225547</td>\n",
       "      <td>car</td>\n",
       "      <td>True</td>\n",
       "      <td>0</td>\n",
       "      <td>0.0</td>\n",
       "    </tr>\n",
       "    <tr>\n",
       "      <th>1</th>\n",
       "      <td>vid_4_10000.jpg</td>\n",
       "      <td>15.163531</td>\n",
       "      <td>187.035071</td>\n",
       "      <td>120.329957</td>\n",
       "      <td>236.430180</td>\n",
       "      <td>car</td>\n",
       "      <td>True</td>\n",
       "      <td>1</td>\n",
       "      <td>0.0</td>\n",
       "    </tr>\n",
       "    <tr>\n",
       "      <th>2</th>\n",
       "      <td>vid_4_10040.jpg</td>\n",
       "      <td>239.192475</td>\n",
       "      <td>176.764801</td>\n",
       "      <td>361.968162</td>\n",
       "      <td>236.430180</td>\n",
       "      <td>car</td>\n",
       "      <td>True</td>\n",
       "      <td>3</td>\n",
       "      <td>0.0</td>\n",
       "    </tr>\n",
       "    <tr>\n",
       "      <th>4</th>\n",
       "      <td>vid_4_10060.jpg</td>\n",
       "      <td>16.630970</td>\n",
       "      <td>186.546010</td>\n",
       "      <td>132.558611</td>\n",
       "      <td>238.386422</td>\n",
       "      <td>car</td>\n",
       "      <td>True</td>\n",
       "      <td>4</td>\n",
       "      <td>0.0</td>\n",
       "    </tr>\n",
       "    <tr>\n",
       "      <th>5</th>\n",
       "      <td>vid_4_10100.jpg</td>\n",
       "      <td>447.568741</td>\n",
       "      <td>160.625804</td>\n",
       "      <td>582.083936</td>\n",
       "      <td>232.517696</td>\n",
       "      <td>car</td>\n",
       "      <td>True</td>\n",
       "      <td>6</td>\n",
       "      <td>0.0</td>\n",
       "    </tr>\n",
       "  </tbody>\n",
       "</table>\n",
       "</div>"
      ],
      "text/plain": [
       "             image        xmin        ymin        xmax        ymax class_name  \\\n",
       "0   vid_4_1000.jpg  281.259045  187.035071  327.727931  223.225547        car   \n",
       "1  vid_4_10000.jpg   15.163531  187.035071  120.329957  236.430180        car   \n",
       "2  vid_4_10040.jpg  239.192475  176.764801  361.968162  236.430180        car   \n",
       "4  vid_4_10060.jpg   16.630970  186.546010  132.558611  238.386422        car   \n",
       "5  vid_4_10100.jpg  447.568741  160.625804  582.083936  232.517696        car   \n",
       "\n",
       "   has_annotation  image_id  class_id  \n",
       "0            True         0       0.0  \n",
       "1            True         1       0.0  \n",
       "2            True         3       0.0  \n",
       "4            True         4       0.0  \n",
       "5            True         6       0.0  "
      ]
     },
     "execution_count": 6,
     "metadata": {},
     "output_type": "execute_result"
    }
   ],
   "source": [
    "train_df.head()"
   ]
  },
  {
   "cell_type": "code",
   "execution_count": 7,
   "id": "aa450d41-8a84-4214-ac7b-0f0e60c62296",
   "metadata": {},
   "outputs": [],
   "source": [
    "train_df = train_df.query('has_annotation == True')"
   ]
  },
  {
   "cell_type": "markdown",
   "id": "2a6d2f60-90a9-44d5-8047-046242b7ab27",
   "metadata": {},
   "source": [
    "Find normalised height and width of boxes in the training set "
   ]
  },
  {
   "cell_type": "code",
   "execution_count": 8,
   "id": "7632371b-131b-47c0-b4d8-7d0c02f713e1",
   "metadata": {},
   "outputs": [],
   "source": [
    "train_df['h'] = train_df['ymax'] -  train_df['ymin']\n",
    "train_df['w'] = train_df['xmax'] -  train_df['xmin']"
   ]
  },
  {
   "cell_type": "code",
   "execution_count": 9,
   "id": "6a9635af-88d9-4116-81b1-52dcaf2ae43b",
   "metadata": {},
   "outputs": [
    {
     "data": {
      "text/html": [
       "<div>\n",
       "<style scoped>\n",
       "    .dataframe tbody tr th:only-of-type {\n",
       "        vertical-align: middle;\n",
       "    }\n",
       "\n",
       "    .dataframe tbody tr th {\n",
       "        vertical-align: top;\n",
       "    }\n",
       "\n",
       "    .dataframe thead th {\n",
       "        text-align: right;\n",
       "    }\n",
       "</style>\n",
       "<table border=\"1\" class=\"dataframe\">\n",
       "  <thead>\n",
       "    <tr style=\"text-align: right;\">\n",
       "      <th></th>\n",
       "      <th>image</th>\n",
       "      <th>xmin</th>\n",
       "      <th>ymin</th>\n",
       "      <th>xmax</th>\n",
       "      <th>ymax</th>\n",
       "      <th>class_name</th>\n",
       "      <th>has_annotation</th>\n",
       "      <th>image_id</th>\n",
       "      <th>class_id</th>\n",
       "      <th>h</th>\n",
       "      <th>w</th>\n",
       "    </tr>\n",
       "  </thead>\n",
       "  <tbody>\n",
       "    <tr>\n",
       "      <th>0</th>\n",
       "      <td>vid_4_1000.jpg</td>\n",
       "      <td>281.259045</td>\n",
       "      <td>187.035071</td>\n",
       "      <td>327.727931</td>\n",
       "      <td>223.225547</td>\n",
       "      <td>car</td>\n",
       "      <td>True</td>\n",
       "      <td>0</td>\n",
       "      <td>0.0</td>\n",
       "      <td>36.190476</td>\n",
       "      <td>46.468886</td>\n",
       "    </tr>\n",
       "    <tr>\n",
       "      <th>1</th>\n",
       "      <td>vid_4_10000.jpg</td>\n",
       "      <td>15.163531</td>\n",
       "      <td>187.035071</td>\n",
       "      <td>120.329957</td>\n",
       "      <td>236.430180</td>\n",
       "      <td>car</td>\n",
       "      <td>True</td>\n",
       "      <td>1</td>\n",
       "      <td>0.0</td>\n",
       "      <td>49.395109</td>\n",
       "      <td>105.166425</td>\n",
       "    </tr>\n",
       "    <tr>\n",
       "      <th>2</th>\n",
       "      <td>vid_4_10040.jpg</td>\n",
       "      <td>239.192475</td>\n",
       "      <td>176.764801</td>\n",
       "      <td>361.968162</td>\n",
       "      <td>236.430180</td>\n",
       "      <td>car</td>\n",
       "      <td>True</td>\n",
       "      <td>3</td>\n",
       "      <td>0.0</td>\n",
       "      <td>59.665380</td>\n",
       "      <td>122.775687</td>\n",
       "    </tr>\n",
       "    <tr>\n",
       "      <th>4</th>\n",
       "      <td>vid_4_10060.jpg</td>\n",
       "      <td>16.630970</td>\n",
       "      <td>186.546010</td>\n",
       "      <td>132.558611</td>\n",
       "      <td>238.386422</td>\n",
       "      <td>car</td>\n",
       "      <td>True</td>\n",
       "      <td>4</td>\n",
       "      <td>0.0</td>\n",
       "      <td>51.840412</td>\n",
       "      <td>115.927641</td>\n",
       "    </tr>\n",
       "    <tr>\n",
       "      <th>5</th>\n",
       "      <td>vid_4_10100.jpg</td>\n",
       "      <td>447.568741</td>\n",
       "      <td>160.625804</td>\n",
       "      <td>582.083936</td>\n",
       "      <td>232.517696</td>\n",
       "      <td>car</td>\n",
       "      <td>True</td>\n",
       "      <td>6</td>\n",
       "      <td>0.0</td>\n",
       "      <td>71.891892</td>\n",
       "      <td>134.515195</td>\n",
       "    </tr>\n",
       "    <tr>\n",
       "      <th>...</th>\n",
       "      <td>...</td>\n",
       "      <td>...</td>\n",
       "      <td>...</td>\n",
       "      <td>...</td>\n",
       "      <td>...</td>\n",
       "      <td>...</td>\n",
       "      <td>...</td>\n",
       "      <td>...</td>\n",
       "      <td>...</td>\n",
       "      <td>...</td>\n",
       "      <td>...</td>\n",
       "    </tr>\n",
       "    <tr>\n",
       "      <th>554</th>\n",
       "      <td>vid_4_9860.jpg</td>\n",
       "      <td>0.000000</td>\n",
       "      <td>198.321729</td>\n",
       "      <td>49.235251</td>\n",
       "      <td>236.223284</td>\n",
       "      <td>car</td>\n",
       "      <td>True</td>\n",
       "      <td>994</td>\n",
       "      <td>0.0</td>\n",
       "      <td>37.901554</td>\n",
       "      <td>49.235251</td>\n",
       "    </tr>\n",
       "    <tr>\n",
       "      <th>555</th>\n",
       "      <td>vid_4_9880.jpg</td>\n",
       "      <td>329.876184</td>\n",
       "      <td>156.482351</td>\n",
       "      <td>536.664239</td>\n",
       "      <td>250.497895</td>\n",
       "      <td>car</td>\n",
       "      <td>True</td>\n",
       "      <td>995</td>\n",
       "      <td>0.0</td>\n",
       "      <td>94.015544</td>\n",
       "      <td>206.788055</td>\n",
       "    </tr>\n",
       "    <tr>\n",
       "      <th>556</th>\n",
       "      <td>vid_4_9900.jpg</td>\n",
       "      <td>0.000000</td>\n",
       "      <td>168.295823</td>\n",
       "      <td>141.797524</td>\n",
       "      <td>239.176652</td>\n",
       "      <td>car</td>\n",
       "      <td>True</td>\n",
       "      <td>996</td>\n",
       "      <td>0.0</td>\n",
       "      <td>70.880829</td>\n",
       "      <td>141.797524</td>\n",
       "    </tr>\n",
       "    <tr>\n",
       "      <th>557</th>\n",
       "      <td>vid_4_9960.jpg</td>\n",
       "      <td>487.428988</td>\n",
       "      <td>172.233646</td>\n",
       "      <td>616.917699</td>\n",
       "      <td>228.839864</td>\n",
       "      <td>car</td>\n",
       "      <td>True</td>\n",
       "      <td>999</td>\n",
       "      <td>0.0</td>\n",
       "      <td>56.606218</td>\n",
       "      <td>129.488711</td>\n",
       "    </tr>\n",
       "    <tr>\n",
       "      <th>558</th>\n",
       "      <td>vid_4_9980.jpg</td>\n",
       "      <td>221.558631</td>\n",
       "      <td>182.570434</td>\n",
       "      <td>348.585579</td>\n",
       "      <td>238.192196</td>\n",
       "      <td>car</td>\n",
       "      <td>True</td>\n",
       "      <td>1000</td>\n",
       "      <td>0.0</td>\n",
       "      <td>55.621762</td>\n",
       "      <td>127.026948</td>\n",
       "    </tr>\n",
       "  </tbody>\n",
       "</table>\n",
       "<p>397 rows × 11 columns</p>\n",
       "</div>"
      ],
      "text/plain": [
       "               image        xmin        ymin        xmax        ymax  \\\n",
       "0     vid_4_1000.jpg  281.259045  187.035071  327.727931  223.225547   \n",
       "1    vid_4_10000.jpg   15.163531  187.035071  120.329957  236.430180   \n",
       "2    vid_4_10040.jpg  239.192475  176.764801  361.968162  236.430180   \n",
       "4    vid_4_10060.jpg   16.630970  186.546010  132.558611  238.386422   \n",
       "5    vid_4_10100.jpg  447.568741  160.625804  582.083936  232.517696   \n",
       "..               ...         ...         ...         ...         ...   \n",
       "554   vid_4_9860.jpg    0.000000  198.321729   49.235251  236.223284   \n",
       "555   vid_4_9880.jpg  329.876184  156.482351  536.664239  250.497895   \n",
       "556   vid_4_9900.jpg    0.000000  168.295823  141.797524  239.176652   \n",
       "557   vid_4_9960.jpg  487.428988  172.233646  616.917699  228.839864   \n",
       "558   vid_4_9980.jpg  221.558631  182.570434  348.585579  238.192196   \n",
       "\n",
       "    class_name  has_annotation  image_id  class_id          h           w  \n",
       "0          car            True         0       0.0  36.190476   46.468886  \n",
       "1          car            True         1       0.0  49.395109  105.166425  \n",
       "2          car            True         3       0.0  59.665380  122.775687  \n",
       "4          car            True         4       0.0  51.840412  115.927641  \n",
       "5          car            True         6       0.0  71.891892  134.515195  \n",
       "..         ...             ...       ...       ...        ...         ...  \n",
       "554        car            True       994       0.0  37.901554   49.235251  \n",
       "555        car            True       995       0.0  94.015544  206.788055  \n",
       "556        car            True       996       0.0  70.880829  141.797524  \n",
       "557        car            True       999       0.0  56.606218  129.488711  \n",
       "558        car            True      1000       0.0  55.621762  127.026948  \n",
       "\n",
       "[397 rows x 11 columns]"
      ]
     },
     "execution_count": 9,
     "metadata": {},
     "output_type": "execute_result"
    }
   ],
   "source": [
    "train_df"
   ]
  },
  {
   "cell_type": "code",
   "execution_count": 10,
   "id": "cfb520c3-902f-4a99-8ade-c27d3b1bbc67",
   "metadata": {},
   "outputs": [],
   "source": [
    "from tqdm.contrib.concurrent import process_map"
   ]
  },
  {
   "cell_type": "code",
   "execution_count": 11,
   "id": "f5f7fbbd-fd1d-440b-8e73-cbe04322cffc",
   "metadata": {},
   "outputs": [],
   "source": [
    "from functools import partial\n",
    "\n",
    "from PIL import Image"
   ]
  },
  {
   "cell_type": "code",
   "execution_count": 12,
   "id": "27fd27f0-b37c-4e74-986e-cc5744074219",
   "metadata": {},
   "outputs": [
    {
     "name": "stderr",
     "output_type": "stream",
     "text": [
      "100%|████████████████████████████████████████████████| 256/256 [00:00<00:00, 5775.94it/s]\n"
     ]
    }
   ],
   "source": [
    "\n",
    "def find_image_size(image_path):\n",
    "    image = Image.open(image_path)\n",
    "    w, h = image.size\n",
    "    return (w, h)\n",
    "\n",
    "image_sizes = process_map(find_image_size, [images_path/p for p in train_df.image.unique()])\n"
   ]
  },
  {
   "cell_type": "code",
   "execution_count": 13,
   "id": "1aad0cbe-c4a4-4d53-8a6b-33d455b523be",
   "metadata": {
    "scrolled": true,
    "tags": []
   },
   "outputs": [
    {
     "data": {
      "text/plain": [
       "[(676, 380),\n",
       " (676, 380),\n",
       " (676, 380),\n",
       " (676, 380),\n",
       " (676, 380),\n",
       " (676, 380),\n",
       " (676, 380),\n",
       " (676, 380),\n",
       " (676, 380),\n",
       " (676, 380),\n",
       " (676, 380),\n",
       " (676, 380),\n",
       " (676, 380),\n",
       " (676, 380),\n",
       " (676, 380),\n",
       " (676, 380),\n",
       " (676, 380),\n",
       " (676, 380),\n",
       " (676, 380),\n",
       " (676, 380),\n",
       " (676, 380),\n",
       " (676, 380),\n",
       " (676, 380),\n",
       " (676, 380),\n",
       " (676, 380),\n",
       " (676, 380),\n",
       " (676, 380),\n",
       " (676, 380),\n",
       " (676, 380),\n",
       " (676, 380),\n",
       " (676, 380),\n",
       " (676, 380),\n",
       " (676, 380),\n",
       " (676, 380),\n",
       " (676, 380),\n",
       " (676, 380),\n",
       " (676, 380),\n",
       " (676, 380),\n",
       " (676, 380),\n",
       " (676, 380),\n",
       " (676, 380),\n",
       " (676, 380),\n",
       " (676, 380),\n",
       " (676, 380),\n",
       " (676, 380),\n",
       " (676, 380),\n",
       " (676, 380),\n",
       " (676, 380),\n",
       " (676, 380),\n",
       " (676, 380),\n",
       " (676, 380),\n",
       " (676, 380),\n",
       " (676, 380),\n",
       " (676, 380),\n",
       " (676, 380),\n",
       " (676, 380),\n",
       " (676, 380),\n",
       " (676, 380),\n",
       " (676, 380),\n",
       " (676, 380),\n",
       " (676, 380),\n",
       " (676, 380),\n",
       " (676, 380),\n",
       " (676, 380),\n",
       " (676, 380),\n",
       " (676, 380),\n",
       " (676, 380),\n",
       " (676, 380),\n",
       " (676, 380),\n",
       " (676, 380),\n",
       " (676, 380),\n",
       " (676, 380),\n",
       " (676, 380),\n",
       " (676, 380),\n",
       " (676, 380),\n",
       " (676, 380),\n",
       " (676, 380),\n",
       " (676, 380),\n",
       " (676, 380),\n",
       " (676, 380),\n",
       " (676, 380),\n",
       " (676, 380),\n",
       " (676, 380),\n",
       " (676, 380),\n",
       " (676, 380),\n",
       " (676, 380),\n",
       " (676, 380),\n",
       " (676, 380),\n",
       " (676, 380),\n",
       " (676, 380),\n",
       " (676, 380),\n",
       " (676, 380),\n",
       " (676, 380),\n",
       " (676, 380),\n",
       " (676, 380),\n",
       " (676, 380),\n",
       " (676, 380),\n",
       " (676, 380),\n",
       " (676, 380),\n",
       " (676, 380),\n",
       " (676, 380),\n",
       " (676, 380),\n",
       " (676, 380),\n",
       " (676, 380),\n",
       " (676, 380),\n",
       " (676, 380),\n",
       " (676, 380),\n",
       " (676, 380),\n",
       " (676, 380),\n",
       " (676, 380),\n",
       " (676, 380),\n",
       " (676, 380),\n",
       " (676, 380),\n",
       " (676, 380),\n",
       " (676, 380),\n",
       " (676, 380),\n",
       " (676, 380),\n",
       " (676, 380),\n",
       " (676, 380),\n",
       " (676, 380),\n",
       " (676, 380),\n",
       " (676, 380),\n",
       " (676, 380),\n",
       " (676, 380),\n",
       " (676, 380),\n",
       " (676, 380),\n",
       " (676, 380),\n",
       " (676, 380),\n",
       " (676, 380),\n",
       " (676, 380),\n",
       " (676, 380),\n",
       " (676, 380),\n",
       " (676, 380),\n",
       " (676, 380),\n",
       " (676, 380),\n",
       " (676, 380),\n",
       " (676, 380),\n",
       " (676, 380),\n",
       " (676, 380),\n",
       " (676, 380),\n",
       " (676, 380),\n",
       " (676, 380),\n",
       " (676, 380),\n",
       " (676, 380),\n",
       " (676, 380),\n",
       " (676, 380),\n",
       " (676, 380),\n",
       " (676, 380),\n",
       " (676, 380),\n",
       " (676, 380),\n",
       " (676, 380),\n",
       " (676, 380),\n",
       " (676, 380),\n",
       " (676, 380),\n",
       " (676, 380),\n",
       " (676, 380),\n",
       " (676, 380),\n",
       " (676, 380),\n",
       " (676, 380),\n",
       " (676, 380),\n",
       " (676, 380),\n",
       " (676, 380),\n",
       " (676, 380),\n",
       " (676, 380),\n",
       " (676, 380),\n",
       " (676, 380),\n",
       " (676, 380),\n",
       " (676, 380),\n",
       " (676, 380),\n",
       " (676, 380),\n",
       " (676, 380),\n",
       " (676, 380),\n",
       " (676, 380),\n",
       " (676, 380),\n",
       " (676, 380),\n",
       " (676, 380),\n",
       " (676, 380),\n",
       " (676, 380),\n",
       " (676, 380),\n",
       " (676, 380),\n",
       " (676, 380),\n",
       " (676, 380),\n",
       " (676, 380),\n",
       " (676, 380),\n",
       " (676, 380),\n",
       " (676, 380),\n",
       " (676, 380),\n",
       " (676, 380),\n",
       " (676, 380),\n",
       " (676, 380),\n",
       " (676, 380),\n",
       " (676, 380),\n",
       " (676, 380),\n",
       " (676, 380),\n",
       " (676, 380),\n",
       " (676, 380),\n",
       " (676, 380),\n",
       " (676, 380),\n",
       " (676, 380),\n",
       " (676, 380),\n",
       " (676, 380),\n",
       " (676, 380),\n",
       " (676, 380),\n",
       " (676, 380),\n",
       " (676, 380),\n",
       " (676, 380),\n",
       " (676, 380),\n",
       " (676, 380),\n",
       " (676, 380),\n",
       " (676, 380),\n",
       " (676, 380),\n",
       " (676, 380),\n",
       " (676, 380),\n",
       " (676, 380),\n",
       " (676, 380),\n",
       " (676, 380),\n",
       " (676, 380),\n",
       " (676, 380),\n",
       " (676, 380),\n",
       " (676, 380),\n",
       " (676, 380),\n",
       " (676, 380),\n",
       " (676, 380),\n",
       " (676, 380),\n",
       " (676, 380),\n",
       " (676, 380),\n",
       " (676, 380),\n",
       " (676, 380),\n",
       " (676, 380),\n",
       " (676, 380),\n",
       " (676, 380),\n",
       " (676, 380),\n",
       " (676, 380),\n",
       " (676, 380),\n",
       " (676, 380),\n",
       " (676, 380),\n",
       " (676, 380),\n",
       " (676, 380),\n",
       " (676, 380),\n",
       " (676, 380),\n",
       " (676, 380),\n",
       " (676, 380),\n",
       " (676, 380),\n",
       " (676, 380),\n",
       " (676, 380),\n",
       " (676, 380),\n",
       " (676, 380),\n",
       " (676, 380),\n",
       " (676, 380),\n",
       " (676, 380),\n",
       " (676, 380),\n",
       " (676, 380),\n",
       " (676, 380),\n",
       " (676, 380),\n",
       " (676, 380),\n",
       " (676, 380)]"
      ]
     },
     "execution_count": 13,
     "metadata": {},
     "output_type": "execute_result"
    }
   ],
   "source": [
    "image_sizes"
   ]
  },
  {
   "cell_type": "markdown",
   "id": "9636c2e0-e9c6-4c4c-aec0-b5f04dc64723",
   "metadata": {},
   "source": [
    "In this case, they are all the same size"
   ]
  },
  {
   "cell_type": "code",
   "execution_count": 14,
   "id": "4e93cf3f-483b-4745-b42d-edf36be131a2",
   "metadata": {},
   "outputs": [],
   "source": [
    "w, h = image_sizes[0]"
   ]
  },
  {
   "cell_type": "code",
   "execution_count": 15,
   "id": "090c4442-6212-40d4-89b2-df3e0b54502c",
   "metadata": {},
   "outputs": [],
   "source": [
    "train_df['image_h'] = h\n",
    "train_df['image_w'] = w"
   ]
  },
  {
   "cell_type": "code",
   "execution_count": 16,
   "id": "7ac5ccd8-db54-47c2-9aa3-4de20733c3b3",
   "metadata": {},
   "outputs": [],
   "source": [
    "train_df['normalized_h'] = train_df['h']/train_df['image_h']\n",
    "train_df['normalized_w'] = train_df['w']/train_df['image_w']"
   ]
  },
  {
   "cell_type": "code",
   "execution_count": 17,
   "id": "8d750e6b-3723-483d-a98f-b10f58cd9aee",
   "metadata": {},
   "outputs": [
    {
     "data": {
      "text/html": [
       "<div>\n",
       "<style scoped>\n",
       "    .dataframe tbody tr th:only-of-type {\n",
       "        vertical-align: middle;\n",
       "    }\n",
       "\n",
       "    .dataframe tbody tr th {\n",
       "        vertical-align: top;\n",
       "    }\n",
       "\n",
       "    .dataframe thead th {\n",
       "        text-align: right;\n",
       "    }\n",
       "</style>\n",
       "<table border=\"1\" class=\"dataframe\">\n",
       "  <thead>\n",
       "    <tr style=\"text-align: right;\">\n",
       "      <th></th>\n",
       "      <th>image</th>\n",
       "      <th>xmin</th>\n",
       "      <th>ymin</th>\n",
       "      <th>xmax</th>\n",
       "      <th>ymax</th>\n",
       "      <th>class_name</th>\n",
       "      <th>has_annotation</th>\n",
       "      <th>image_id</th>\n",
       "      <th>class_id</th>\n",
       "      <th>h</th>\n",
       "      <th>w</th>\n",
       "      <th>image_h</th>\n",
       "      <th>image_w</th>\n",
       "      <th>normalized_h</th>\n",
       "      <th>normalized_w</th>\n",
       "    </tr>\n",
       "  </thead>\n",
       "  <tbody>\n",
       "    <tr>\n",
       "      <th>0</th>\n",
       "      <td>vid_4_1000.jpg</td>\n",
       "      <td>281.259045</td>\n",
       "      <td>187.035071</td>\n",
       "      <td>327.727931</td>\n",
       "      <td>223.225547</td>\n",
       "      <td>car</td>\n",
       "      <td>True</td>\n",
       "      <td>0</td>\n",
       "      <td>0.0</td>\n",
       "      <td>36.190476</td>\n",
       "      <td>46.468886</td>\n",
       "      <td>380</td>\n",
       "      <td>676</td>\n",
       "      <td>0.095238</td>\n",
       "      <td>0.068741</td>\n",
       "    </tr>\n",
       "    <tr>\n",
       "      <th>1</th>\n",
       "      <td>vid_4_10000.jpg</td>\n",
       "      <td>15.163531</td>\n",
       "      <td>187.035071</td>\n",
       "      <td>120.329957</td>\n",
       "      <td>236.430180</td>\n",
       "      <td>car</td>\n",
       "      <td>True</td>\n",
       "      <td>1</td>\n",
       "      <td>0.0</td>\n",
       "      <td>49.395109</td>\n",
       "      <td>105.166425</td>\n",
       "      <td>380</td>\n",
       "      <td>676</td>\n",
       "      <td>0.129987</td>\n",
       "      <td>0.155572</td>\n",
       "    </tr>\n",
       "    <tr>\n",
       "      <th>2</th>\n",
       "      <td>vid_4_10040.jpg</td>\n",
       "      <td>239.192475</td>\n",
       "      <td>176.764801</td>\n",
       "      <td>361.968162</td>\n",
       "      <td>236.430180</td>\n",
       "      <td>car</td>\n",
       "      <td>True</td>\n",
       "      <td>3</td>\n",
       "      <td>0.0</td>\n",
       "      <td>59.665380</td>\n",
       "      <td>122.775687</td>\n",
       "      <td>380</td>\n",
       "      <td>676</td>\n",
       "      <td>0.157014</td>\n",
       "      <td>0.181621</td>\n",
       "    </tr>\n",
       "    <tr>\n",
       "      <th>4</th>\n",
       "      <td>vid_4_10060.jpg</td>\n",
       "      <td>16.630970</td>\n",
       "      <td>186.546010</td>\n",
       "      <td>132.558611</td>\n",
       "      <td>238.386422</td>\n",
       "      <td>car</td>\n",
       "      <td>True</td>\n",
       "      <td>4</td>\n",
       "      <td>0.0</td>\n",
       "      <td>51.840412</td>\n",
       "      <td>115.927641</td>\n",
       "      <td>380</td>\n",
       "      <td>676</td>\n",
       "      <td>0.136422</td>\n",
       "      <td>0.171491</td>\n",
       "    </tr>\n",
       "    <tr>\n",
       "      <th>5</th>\n",
       "      <td>vid_4_10100.jpg</td>\n",
       "      <td>447.568741</td>\n",
       "      <td>160.625804</td>\n",
       "      <td>582.083936</td>\n",
       "      <td>232.517696</td>\n",
       "      <td>car</td>\n",
       "      <td>True</td>\n",
       "      <td>6</td>\n",
       "      <td>0.0</td>\n",
       "      <td>71.891892</td>\n",
       "      <td>134.515195</td>\n",
       "      <td>380</td>\n",
       "      <td>676</td>\n",
       "      <td>0.189189</td>\n",
       "      <td>0.198987</td>\n",
       "    </tr>\n",
       "    <tr>\n",
       "      <th>...</th>\n",
       "      <td>...</td>\n",
       "      <td>...</td>\n",
       "      <td>...</td>\n",
       "      <td>...</td>\n",
       "      <td>...</td>\n",
       "      <td>...</td>\n",
       "      <td>...</td>\n",
       "      <td>...</td>\n",
       "      <td>...</td>\n",
       "      <td>...</td>\n",
       "      <td>...</td>\n",
       "      <td>...</td>\n",
       "      <td>...</td>\n",
       "      <td>...</td>\n",
       "      <td>...</td>\n",
       "    </tr>\n",
       "    <tr>\n",
       "      <th>554</th>\n",
       "      <td>vid_4_9860.jpg</td>\n",
       "      <td>0.000000</td>\n",
       "      <td>198.321729</td>\n",
       "      <td>49.235251</td>\n",
       "      <td>236.223284</td>\n",
       "      <td>car</td>\n",
       "      <td>True</td>\n",
       "      <td>994</td>\n",
       "      <td>0.0</td>\n",
       "      <td>37.901554</td>\n",
       "      <td>49.235251</td>\n",
       "      <td>380</td>\n",
       "      <td>676</td>\n",
       "      <td>0.099741</td>\n",
       "      <td>0.072833</td>\n",
       "    </tr>\n",
       "    <tr>\n",
       "      <th>555</th>\n",
       "      <td>vid_4_9880.jpg</td>\n",
       "      <td>329.876184</td>\n",
       "      <td>156.482351</td>\n",
       "      <td>536.664239</td>\n",
       "      <td>250.497895</td>\n",
       "      <td>car</td>\n",
       "      <td>True</td>\n",
       "      <td>995</td>\n",
       "      <td>0.0</td>\n",
       "      <td>94.015544</td>\n",
       "      <td>206.788055</td>\n",
       "      <td>380</td>\n",
       "      <td>676</td>\n",
       "      <td>0.247409</td>\n",
       "      <td>0.305899</td>\n",
       "    </tr>\n",
       "    <tr>\n",
       "      <th>556</th>\n",
       "      <td>vid_4_9900.jpg</td>\n",
       "      <td>0.000000</td>\n",
       "      <td>168.295823</td>\n",
       "      <td>141.797524</td>\n",
       "      <td>239.176652</td>\n",
       "      <td>car</td>\n",
       "      <td>True</td>\n",
       "      <td>996</td>\n",
       "      <td>0.0</td>\n",
       "      <td>70.880829</td>\n",
       "      <td>141.797524</td>\n",
       "      <td>380</td>\n",
       "      <td>676</td>\n",
       "      <td>0.186528</td>\n",
       "      <td>0.209760</td>\n",
       "    </tr>\n",
       "    <tr>\n",
       "      <th>557</th>\n",
       "      <td>vid_4_9960.jpg</td>\n",
       "      <td>487.428988</td>\n",
       "      <td>172.233646</td>\n",
       "      <td>616.917699</td>\n",
       "      <td>228.839864</td>\n",
       "      <td>car</td>\n",
       "      <td>True</td>\n",
       "      <td>999</td>\n",
       "      <td>0.0</td>\n",
       "      <td>56.606218</td>\n",
       "      <td>129.488711</td>\n",
       "      <td>380</td>\n",
       "      <td>676</td>\n",
       "      <td>0.148964</td>\n",
       "      <td>0.191551</td>\n",
       "    </tr>\n",
       "    <tr>\n",
       "      <th>558</th>\n",
       "      <td>vid_4_9980.jpg</td>\n",
       "      <td>221.558631</td>\n",
       "      <td>182.570434</td>\n",
       "      <td>348.585579</td>\n",
       "      <td>238.192196</td>\n",
       "      <td>car</td>\n",
       "      <td>True</td>\n",
       "      <td>1000</td>\n",
       "      <td>0.0</td>\n",
       "      <td>55.621762</td>\n",
       "      <td>127.026948</td>\n",
       "      <td>380</td>\n",
       "      <td>676</td>\n",
       "      <td>0.146373</td>\n",
       "      <td>0.187910</td>\n",
       "    </tr>\n",
       "  </tbody>\n",
       "</table>\n",
       "<p>397 rows × 15 columns</p>\n",
       "</div>"
      ],
      "text/plain": [
       "               image        xmin        ymin        xmax        ymax  \\\n",
       "0     vid_4_1000.jpg  281.259045  187.035071  327.727931  223.225547   \n",
       "1    vid_4_10000.jpg   15.163531  187.035071  120.329957  236.430180   \n",
       "2    vid_4_10040.jpg  239.192475  176.764801  361.968162  236.430180   \n",
       "4    vid_4_10060.jpg   16.630970  186.546010  132.558611  238.386422   \n",
       "5    vid_4_10100.jpg  447.568741  160.625804  582.083936  232.517696   \n",
       "..               ...         ...         ...         ...         ...   \n",
       "554   vid_4_9860.jpg    0.000000  198.321729   49.235251  236.223284   \n",
       "555   vid_4_9880.jpg  329.876184  156.482351  536.664239  250.497895   \n",
       "556   vid_4_9900.jpg    0.000000  168.295823  141.797524  239.176652   \n",
       "557   vid_4_9960.jpg  487.428988  172.233646  616.917699  228.839864   \n",
       "558   vid_4_9980.jpg  221.558631  182.570434  348.585579  238.192196   \n",
       "\n",
       "    class_name  has_annotation  image_id  class_id          h           w  \\\n",
       "0          car            True         0       0.0  36.190476   46.468886   \n",
       "1          car            True         1       0.0  49.395109  105.166425   \n",
       "2          car            True         3       0.0  59.665380  122.775687   \n",
       "4          car            True         4       0.0  51.840412  115.927641   \n",
       "5          car            True         6       0.0  71.891892  134.515195   \n",
       "..         ...             ...       ...       ...        ...         ...   \n",
       "554        car            True       994       0.0  37.901554   49.235251   \n",
       "555        car            True       995       0.0  94.015544  206.788055   \n",
       "556        car            True       996       0.0  70.880829  141.797524   \n",
       "557        car            True       999       0.0  56.606218  129.488711   \n",
       "558        car            True      1000       0.0  55.621762  127.026948   \n",
       "\n",
       "     image_h  image_w  normalized_h  normalized_w  \n",
       "0        380      676      0.095238      0.068741  \n",
       "1        380      676      0.129987      0.155572  \n",
       "2        380      676      0.157014      0.181621  \n",
       "4        380      676      0.136422      0.171491  \n",
       "5        380      676      0.189189      0.198987  \n",
       "..       ...      ...           ...           ...  \n",
       "554      380      676      0.099741      0.072833  \n",
       "555      380      676      0.247409      0.305899  \n",
       "556      380      676      0.186528      0.209760  \n",
       "557      380      676      0.148964      0.191551  \n",
       "558      380      676      0.146373      0.187910  \n",
       "\n",
       "[397 rows x 15 columns]"
      ]
     },
     "execution_count": 17,
     "metadata": {},
     "output_type": "execute_result"
    }
   ],
   "source": [
    "train_df"
   ]
  },
  {
   "cell_type": "markdown",
   "id": "b54b2dfe-5cf9-45c0-a5fe-7fe1eb480dd6",
   "metadata": {},
   "source": [
    "## Calculate anchors"
   ]
  },
  {
   "cell_type": "code",
   "execution_count": 26,
   "id": "28486ee1-5fb8-4790-bc3c-65b2e7bd0941",
   "metadata": {},
   "outputs": [],
   "source": [
    "from yolov7 import create_yolov7_model"
   ]
  },
  {
   "cell_type": "code",
   "execution_count": 27,
   "id": "bd22f30c-22dd-451e-8a25-90b5da368785",
   "metadata": {},
   "outputs": [],
   "source": [
    "model = create_yolov7_model('yolov7', pretrained=False)"
   ]
  },
  {
   "cell_type": "code",
   "execution_count": 30,
   "id": "cd6c0024-2b9c-40fc-a94d-3ebf7c44caa1",
   "metadata": {},
   "outputs": [],
   "source": [
    "import torch"
   ]
  },
  {
   "cell_type": "code",
   "execution_count": 36,
   "id": "20e10b21-20c3-4dec-9c5c-57e1f7b10d7f",
   "metadata": {},
   "outputs": [
    {
     "data": {
      "text/plain": [
       "torch.Size([9, 2])"
      ]
     },
     "execution_count": 36,
     "metadata": {},
     "output_type": "execute_result"
    }
   ],
   "source": [
    "# torch.tensor([\n",
    "#     [[12, 16], [19, 36], [40, 28]],\n",
    "#     [[36, 75], [76, 55], [72, 146]],\n",
    "#     [[142, 110], [192, 243], [459, 401]],\n",
    "    \n",
    "\n",
    "# ]).view(-1,2).shape"
   ]
  },
  {
   "cell_type": "code",
   "execution_count": 38,
   "id": "5d506a2f-a36e-40b6-b223-b912003ab61f",
   "metadata": {},
   "outputs": [
    {
     "data": {
      "text/plain": [
       "tensor([[ 12.,  16.],\n",
       "        [ 19.,  36.],\n",
       "        [ 40.,  28.],\n",
       "        [ 36.,  75.],\n",
       "        [ 76.,  55.],\n",
       "        [ 72., 146.],\n",
       "        [142., 110.],\n",
       "        [192., 243.],\n",
       "        [459., 401.]])"
      ]
     },
     "execution_count": 38,
     "metadata": {},
     "output_type": "execute_result"
    }
   ],
   "source": [
    "current_anchors = model.detection_head.anchor_grid.clone().cpu().view(-1, 2); current_anchors"
   ]
  },
  {
   "cell_type": "markdown",
   "id": "1194f212-387b-4002-8b1a-2c1b87ef4690",
   "metadata": {},
   "source": [
    "Here, the numbers [correspond to the width and height](https://github.com/ultralytics/yolov5/issues/6838) of the anchors generated for each pixel. These values are based on the resized (target image) size.\n",
    "\n",
    "Anchor box is just a scale and aspect ratio of specific object classes in object detection. \n",
    "\n",
    "The FPN (Future Pyramid Network) has three outputs and each output's role is to detect objects according to their scale. For example:\n",
    "\n",
    "- P3/8 is for detecting smaller objects.\n",
    "- P4/16 is for detecting medium objects.\n",
    "- P5/32 is for detecting bigger objects.\n",
    "So when you're going to detect smaller objects you need to use smaller anchor boxes and for medium objects you should use medium scale anchor boxes, so on"
   ]
  },
  {
   "cell_type": "code",
   "execution_count": 17,
   "id": "76765f77-fd1b-4c6f-9e8d-5bcc8786a717",
   "metadata": {},
   "outputs": [],
   "source": [
    "import numpy as np"
   ]
  },
  {
   "cell_type": "code",
   "execution_count": 18,
   "id": "c7ee2915-8b55-4277-99dd-b54d134b410d",
   "metadata": {},
   "outputs": [],
   "source": [
    "image_sizes = train_df[['image_w', 'image_h']].values"
   ]
  },
  {
   "cell_type": "code",
   "execution_count": 19,
   "id": "49b2d5e9-4561-4273-8eda-4c9c088df43d",
   "metadata": {},
   "outputs": [],
   "source": [
    "target_image_size = 640"
   ]
  },
  {
   "cell_type": "code",
   "execution_count": 20,
   "id": "815bd044-b826-4801-bbbf-d9b62592f8d0",
   "metadata": {},
   "outputs": [],
   "source": [
    "normalized_wh = train_df[['normalized_w', 'normalized_h']].values"
   ]
  },
  {
   "cell_type": "markdown",
   "id": "9f4459f0-a8fa-476c-8b43-df06dff339fd",
   "metadata": {},
   "source": [
    "Find target image sizes. This is done by resizing so that the longest side is the target size"
   ]
  },
  {
   "cell_type": "code",
   "execution_count": 21,
   "id": "09a1a02e-a535-4033-92f6-b62b1e1e4b43",
   "metadata": {},
   "outputs": [],
   "source": [
    "target_image_sizes = (\n",
    "    target_image_size * image_sizes / image_sizes.max(1, keepdims=True)\n",
    ")"
   ]
  },
  {
   "cell_type": "code",
   "execution_count": 22,
   "id": "2bb9f96e-4f3e-4425-93fc-90904eadcb48",
   "metadata": {
    "scrolled": true,
    "tags": []
   },
   "outputs": [
    {
     "data": {
      "text/plain": [
       "array([[640.        , 359.76331361],\n",
       "       [640.        , 359.76331361],\n",
       "       [640.        , 359.76331361],\n",
       "       [640.        , 359.76331361],\n",
       "       [640.        , 359.76331361],\n",
       "       [640.        , 359.76331361],\n",
       "       [640.        , 359.76331361],\n",
       "       [640.        , 359.76331361],\n",
       "       [640.        , 359.76331361],\n",
       "       [640.        , 359.76331361],\n",
       "       [640.        , 359.76331361],\n",
       "       [640.        , 359.76331361],\n",
       "       [640.        , 359.76331361],\n",
       "       [640.        , 359.76331361],\n",
       "       [640.        , 359.76331361],\n",
       "       [640.        , 359.76331361],\n",
       "       [640.        , 359.76331361],\n",
       "       [640.        , 359.76331361],\n",
       "       [640.        , 359.76331361],\n",
       "       [640.        , 359.76331361],\n",
       "       [640.        , 359.76331361],\n",
       "       [640.        , 359.76331361],\n",
       "       [640.        , 359.76331361],\n",
       "       [640.        , 359.76331361],\n",
       "       [640.        , 359.76331361],\n",
       "       [640.        , 359.76331361],\n",
       "       [640.        , 359.76331361],\n",
       "       [640.        , 359.76331361],\n",
       "       [640.        , 359.76331361],\n",
       "       [640.        , 359.76331361],\n",
       "       [640.        , 359.76331361],\n",
       "       [640.        , 359.76331361],\n",
       "       [640.        , 359.76331361],\n",
       "       [640.        , 359.76331361],\n",
       "       [640.        , 359.76331361],\n",
       "       [640.        , 359.76331361],\n",
       "       [640.        , 359.76331361],\n",
       "       [640.        , 359.76331361],\n",
       "       [640.        , 359.76331361],\n",
       "       [640.        , 359.76331361],\n",
       "       [640.        , 359.76331361],\n",
       "       [640.        , 359.76331361],\n",
       "       [640.        , 359.76331361],\n",
       "       [640.        , 359.76331361],\n",
       "       [640.        , 359.76331361],\n",
       "       [640.        , 359.76331361],\n",
       "       [640.        , 359.76331361],\n",
       "       [640.        , 359.76331361],\n",
       "       [640.        , 359.76331361],\n",
       "       [640.        , 359.76331361],\n",
       "       [640.        , 359.76331361],\n",
       "       [640.        , 359.76331361],\n",
       "       [640.        , 359.76331361],\n",
       "       [640.        , 359.76331361],\n",
       "       [640.        , 359.76331361],\n",
       "       [640.        , 359.76331361],\n",
       "       [640.        , 359.76331361],\n",
       "       [640.        , 359.76331361],\n",
       "       [640.        , 359.76331361],\n",
       "       [640.        , 359.76331361],\n",
       "       [640.        , 359.76331361],\n",
       "       [640.        , 359.76331361],\n",
       "       [640.        , 359.76331361],\n",
       "       [640.        , 359.76331361],\n",
       "       [640.        , 359.76331361],\n",
       "       [640.        , 359.76331361],\n",
       "       [640.        , 359.76331361],\n",
       "       [640.        , 359.76331361],\n",
       "       [640.        , 359.76331361],\n",
       "       [640.        , 359.76331361],\n",
       "       [640.        , 359.76331361],\n",
       "       [640.        , 359.76331361],\n",
       "       [640.        , 359.76331361],\n",
       "       [640.        , 359.76331361],\n",
       "       [640.        , 359.76331361],\n",
       "       [640.        , 359.76331361],\n",
       "       [640.        , 359.76331361],\n",
       "       [640.        , 359.76331361],\n",
       "       [640.        , 359.76331361],\n",
       "       [640.        , 359.76331361],\n",
       "       [640.        , 359.76331361],\n",
       "       [640.        , 359.76331361],\n",
       "       [640.        , 359.76331361],\n",
       "       [640.        , 359.76331361],\n",
       "       [640.        , 359.76331361],\n",
       "       [640.        , 359.76331361],\n",
       "       [640.        , 359.76331361],\n",
       "       [640.        , 359.76331361],\n",
       "       [640.        , 359.76331361],\n",
       "       [640.        , 359.76331361],\n",
       "       [640.        , 359.76331361],\n",
       "       [640.        , 359.76331361],\n",
       "       [640.        , 359.76331361],\n",
       "       [640.        , 359.76331361],\n",
       "       [640.        , 359.76331361],\n",
       "       [640.        , 359.76331361],\n",
       "       [640.        , 359.76331361],\n",
       "       [640.        , 359.76331361],\n",
       "       [640.        , 359.76331361],\n",
       "       [640.        , 359.76331361],\n",
       "       [640.        , 359.76331361],\n",
       "       [640.        , 359.76331361],\n",
       "       [640.        , 359.76331361],\n",
       "       [640.        , 359.76331361],\n",
       "       [640.        , 359.76331361],\n",
       "       [640.        , 359.76331361],\n",
       "       [640.        , 359.76331361],\n",
       "       [640.        , 359.76331361],\n",
       "       [640.        , 359.76331361],\n",
       "       [640.        , 359.76331361],\n",
       "       [640.        , 359.76331361],\n",
       "       [640.        , 359.76331361],\n",
       "       [640.        , 359.76331361],\n",
       "       [640.        , 359.76331361],\n",
       "       [640.        , 359.76331361],\n",
       "       [640.        , 359.76331361],\n",
       "       [640.        , 359.76331361],\n",
       "       [640.        , 359.76331361],\n",
       "       [640.        , 359.76331361],\n",
       "       [640.        , 359.76331361],\n",
       "       [640.        , 359.76331361],\n",
       "       [640.        , 359.76331361],\n",
       "       [640.        , 359.76331361],\n",
       "       [640.        , 359.76331361],\n",
       "       [640.        , 359.76331361],\n",
       "       [640.        , 359.76331361],\n",
       "       [640.        , 359.76331361],\n",
       "       [640.        , 359.76331361],\n",
       "       [640.        , 359.76331361],\n",
       "       [640.        , 359.76331361],\n",
       "       [640.        , 359.76331361],\n",
       "       [640.        , 359.76331361],\n",
       "       [640.        , 359.76331361],\n",
       "       [640.        , 359.76331361],\n",
       "       [640.        , 359.76331361],\n",
       "       [640.        , 359.76331361],\n",
       "       [640.        , 359.76331361],\n",
       "       [640.        , 359.76331361],\n",
       "       [640.        , 359.76331361],\n",
       "       [640.        , 359.76331361],\n",
       "       [640.        , 359.76331361],\n",
       "       [640.        , 359.76331361],\n",
       "       [640.        , 359.76331361],\n",
       "       [640.        , 359.76331361],\n",
       "       [640.        , 359.76331361],\n",
       "       [640.        , 359.76331361],\n",
       "       [640.        , 359.76331361],\n",
       "       [640.        , 359.76331361],\n",
       "       [640.        , 359.76331361],\n",
       "       [640.        , 359.76331361],\n",
       "       [640.        , 359.76331361],\n",
       "       [640.        , 359.76331361],\n",
       "       [640.        , 359.76331361],\n",
       "       [640.        , 359.76331361],\n",
       "       [640.        , 359.76331361],\n",
       "       [640.        , 359.76331361],\n",
       "       [640.        , 359.76331361],\n",
       "       [640.        , 359.76331361],\n",
       "       [640.        , 359.76331361],\n",
       "       [640.        , 359.76331361],\n",
       "       [640.        , 359.76331361],\n",
       "       [640.        , 359.76331361],\n",
       "       [640.        , 359.76331361],\n",
       "       [640.        , 359.76331361],\n",
       "       [640.        , 359.76331361],\n",
       "       [640.        , 359.76331361],\n",
       "       [640.        , 359.76331361],\n",
       "       [640.        , 359.76331361],\n",
       "       [640.        , 359.76331361],\n",
       "       [640.        , 359.76331361],\n",
       "       [640.        , 359.76331361],\n",
       "       [640.        , 359.76331361],\n",
       "       [640.        , 359.76331361],\n",
       "       [640.        , 359.76331361],\n",
       "       [640.        , 359.76331361],\n",
       "       [640.        , 359.76331361],\n",
       "       [640.        , 359.76331361],\n",
       "       [640.        , 359.76331361],\n",
       "       [640.        , 359.76331361],\n",
       "       [640.        , 359.76331361],\n",
       "       [640.        , 359.76331361],\n",
       "       [640.        , 359.76331361],\n",
       "       [640.        , 359.76331361],\n",
       "       [640.        , 359.76331361],\n",
       "       [640.        , 359.76331361],\n",
       "       [640.        , 359.76331361],\n",
       "       [640.        , 359.76331361],\n",
       "       [640.        , 359.76331361],\n",
       "       [640.        , 359.76331361],\n",
       "       [640.        , 359.76331361],\n",
       "       [640.        , 359.76331361],\n",
       "       [640.        , 359.76331361],\n",
       "       [640.        , 359.76331361],\n",
       "       [640.        , 359.76331361],\n",
       "       [640.        , 359.76331361],\n",
       "       [640.        , 359.76331361],\n",
       "       [640.        , 359.76331361],\n",
       "       [640.        , 359.76331361],\n",
       "       [640.        , 359.76331361],\n",
       "       [640.        , 359.76331361],\n",
       "       [640.        , 359.76331361],\n",
       "       [640.        , 359.76331361],\n",
       "       [640.        , 359.76331361],\n",
       "       [640.        , 359.76331361],\n",
       "       [640.        , 359.76331361],\n",
       "       [640.        , 359.76331361],\n",
       "       [640.        , 359.76331361],\n",
       "       [640.        , 359.76331361],\n",
       "       [640.        , 359.76331361],\n",
       "       [640.        , 359.76331361],\n",
       "       [640.        , 359.76331361],\n",
       "       [640.        , 359.76331361],\n",
       "       [640.        , 359.76331361],\n",
       "       [640.        , 359.76331361],\n",
       "       [640.        , 359.76331361],\n",
       "       [640.        , 359.76331361],\n",
       "       [640.        , 359.76331361],\n",
       "       [640.        , 359.76331361],\n",
       "       [640.        , 359.76331361],\n",
       "       [640.        , 359.76331361],\n",
       "       [640.        , 359.76331361],\n",
       "       [640.        , 359.76331361],\n",
       "       [640.        , 359.76331361],\n",
       "       [640.        , 359.76331361],\n",
       "       [640.        , 359.76331361],\n",
       "       [640.        , 359.76331361],\n",
       "       [640.        , 359.76331361],\n",
       "       [640.        , 359.76331361],\n",
       "       [640.        , 359.76331361],\n",
       "       [640.        , 359.76331361],\n",
       "       [640.        , 359.76331361],\n",
       "       [640.        , 359.76331361],\n",
       "       [640.        , 359.76331361],\n",
       "       [640.        , 359.76331361],\n",
       "       [640.        , 359.76331361],\n",
       "       [640.        , 359.76331361],\n",
       "       [640.        , 359.76331361],\n",
       "       [640.        , 359.76331361],\n",
       "       [640.        , 359.76331361],\n",
       "       [640.        , 359.76331361],\n",
       "       [640.        , 359.76331361],\n",
       "       [640.        , 359.76331361],\n",
       "       [640.        , 359.76331361],\n",
       "       [640.        , 359.76331361],\n",
       "       [640.        , 359.76331361],\n",
       "       [640.        , 359.76331361],\n",
       "       [640.        , 359.76331361],\n",
       "       [640.        , 359.76331361],\n",
       "       [640.        , 359.76331361],\n",
       "       [640.        , 359.76331361],\n",
       "       [640.        , 359.76331361],\n",
       "       [640.        , 359.76331361],\n",
       "       [640.        , 359.76331361],\n",
       "       [640.        , 359.76331361],\n",
       "       [640.        , 359.76331361],\n",
       "       [640.        , 359.76331361],\n",
       "       [640.        , 359.76331361],\n",
       "       [640.        , 359.76331361],\n",
       "       [640.        , 359.76331361],\n",
       "       [640.        , 359.76331361],\n",
       "       [640.        , 359.76331361],\n",
       "       [640.        , 359.76331361],\n",
       "       [640.        , 359.76331361],\n",
       "       [640.        , 359.76331361],\n",
       "       [640.        , 359.76331361],\n",
       "       [640.        , 359.76331361],\n",
       "       [640.        , 359.76331361],\n",
       "       [640.        , 359.76331361],\n",
       "       [640.        , 359.76331361],\n",
       "       [640.        , 359.76331361],\n",
       "       [640.        , 359.76331361],\n",
       "       [640.        , 359.76331361],\n",
       "       [640.        , 359.76331361],\n",
       "       [640.        , 359.76331361],\n",
       "       [640.        , 359.76331361],\n",
       "       [640.        , 359.76331361],\n",
       "       [640.        , 359.76331361],\n",
       "       [640.        , 359.76331361],\n",
       "       [640.        , 359.76331361],\n",
       "       [640.        , 359.76331361],\n",
       "       [640.        , 359.76331361],\n",
       "       [640.        , 359.76331361],\n",
       "       [640.        , 359.76331361],\n",
       "       [640.        , 359.76331361],\n",
       "       [640.        , 359.76331361],\n",
       "       [640.        , 359.76331361],\n",
       "       [640.        , 359.76331361],\n",
       "       [640.        , 359.76331361],\n",
       "       [640.        , 359.76331361],\n",
       "       [640.        , 359.76331361],\n",
       "       [640.        , 359.76331361],\n",
       "       [640.        , 359.76331361],\n",
       "       [640.        , 359.76331361],\n",
       "       [640.        , 359.76331361],\n",
       "       [640.        , 359.76331361],\n",
       "       [640.        , 359.76331361],\n",
       "       [640.        , 359.76331361],\n",
       "       [640.        , 359.76331361],\n",
       "       [640.        , 359.76331361],\n",
       "       [640.        , 359.76331361],\n",
       "       [640.        , 359.76331361],\n",
       "       [640.        , 359.76331361],\n",
       "       [640.        , 359.76331361],\n",
       "       [640.        , 359.76331361],\n",
       "       [640.        , 359.76331361],\n",
       "       [640.        , 359.76331361],\n",
       "       [640.        , 359.76331361],\n",
       "       [640.        , 359.76331361],\n",
       "       [640.        , 359.76331361],\n",
       "       [640.        , 359.76331361],\n",
       "       [640.        , 359.76331361],\n",
       "       [640.        , 359.76331361],\n",
       "       [640.        , 359.76331361],\n",
       "       [640.        , 359.76331361],\n",
       "       [640.        , 359.76331361],\n",
       "       [640.        , 359.76331361],\n",
       "       [640.        , 359.76331361],\n",
       "       [640.        , 359.76331361],\n",
       "       [640.        , 359.76331361],\n",
       "       [640.        , 359.76331361],\n",
       "       [640.        , 359.76331361],\n",
       "       [640.        , 359.76331361],\n",
       "       [640.        , 359.76331361],\n",
       "       [640.        , 359.76331361],\n",
       "       [640.        , 359.76331361],\n",
       "       [640.        , 359.76331361],\n",
       "       [640.        , 359.76331361],\n",
       "       [640.        , 359.76331361],\n",
       "       [640.        , 359.76331361],\n",
       "       [640.        , 359.76331361],\n",
       "       [640.        , 359.76331361],\n",
       "       [640.        , 359.76331361],\n",
       "       [640.        , 359.76331361],\n",
       "       [640.        , 359.76331361],\n",
       "       [640.        , 359.76331361],\n",
       "       [640.        , 359.76331361],\n",
       "       [640.        , 359.76331361],\n",
       "       [640.        , 359.76331361],\n",
       "       [640.        , 359.76331361],\n",
       "       [640.        , 359.76331361],\n",
       "       [640.        , 359.76331361],\n",
       "       [640.        , 359.76331361],\n",
       "       [640.        , 359.76331361],\n",
       "       [640.        , 359.76331361],\n",
       "       [640.        , 359.76331361],\n",
       "       [640.        , 359.76331361],\n",
       "       [640.        , 359.76331361],\n",
       "       [640.        , 359.76331361],\n",
       "       [640.        , 359.76331361],\n",
       "       [640.        , 359.76331361],\n",
       "       [640.        , 359.76331361],\n",
       "       [640.        , 359.76331361],\n",
       "       [640.        , 359.76331361],\n",
       "       [640.        , 359.76331361],\n",
       "       [640.        , 359.76331361],\n",
       "       [640.        , 359.76331361],\n",
       "       [640.        , 359.76331361],\n",
       "       [640.        , 359.76331361],\n",
       "       [640.        , 359.76331361],\n",
       "       [640.        , 359.76331361],\n",
       "       [640.        , 359.76331361],\n",
       "       [640.        , 359.76331361],\n",
       "       [640.        , 359.76331361],\n",
       "       [640.        , 359.76331361],\n",
       "       [640.        , 359.76331361],\n",
       "       [640.        , 359.76331361],\n",
       "       [640.        , 359.76331361],\n",
       "       [640.        , 359.76331361],\n",
       "       [640.        , 359.76331361],\n",
       "       [640.        , 359.76331361],\n",
       "       [640.        , 359.76331361],\n",
       "       [640.        , 359.76331361],\n",
       "       [640.        , 359.76331361],\n",
       "       [640.        , 359.76331361],\n",
       "       [640.        , 359.76331361],\n",
       "       [640.        , 359.76331361],\n",
       "       [640.        , 359.76331361],\n",
       "       [640.        , 359.76331361],\n",
       "       [640.        , 359.76331361],\n",
       "       [640.        , 359.76331361],\n",
       "       [640.        , 359.76331361],\n",
       "       [640.        , 359.76331361],\n",
       "       [640.        , 359.76331361],\n",
       "       [640.        , 359.76331361],\n",
       "       [640.        , 359.76331361],\n",
       "       [640.        , 359.76331361],\n",
       "       [640.        , 359.76331361],\n",
       "       [640.        , 359.76331361],\n",
       "       [640.        , 359.76331361],\n",
       "       [640.        , 359.76331361],\n",
       "       [640.        , 359.76331361],\n",
       "       [640.        , 359.76331361],\n",
       "       [640.        , 359.76331361],\n",
       "       [640.        , 359.76331361],\n",
       "       [640.        , 359.76331361],\n",
       "       [640.        , 359.76331361],\n",
       "       [640.        , 359.76331361]])"
      ]
     },
     "execution_count": 22,
     "metadata": {},
     "output_type": "execute_result"
    }
   ],
   "source": [
    "target_image_sizes"
   ]
  },
  {
   "cell_type": "markdown",
   "id": "50683e11-bb16-4dc0-986f-242f4884306d",
   "metadata": {},
   "source": [
    "find wh of boxes for target size"
   ]
  },
  {
   "cell_type": "code",
   "execution_count": 23,
   "id": "df6d4403-9ff5-40d2-860c-7dac20467126",
   "metadata": {},
   "outputs": [],
   "source": [
    "wh = target_image_sizes * normalized_wh"
   ]
  },
  {
   "cell_type": "markdown",
   "id": "9060806b-d418-48ea-b382-81e599ae9c8e",
   "metadata": {},
   "source": [
    "Check whether tiny boxes exist, here this is boxes with either a w or h smaller than 3 pixels"
   ]
  },
  {
   "cell_type": "code",
   "execution_count": 24,
   "id": "37f208b7-f219-4722-9f1a-5f3b77eaa78d",
   "metadata": {},
   "outputs": [],
   "source": [
    "tiny_boxes_exist = (wh < 3).any(1).sum()"
   ]
  },
  {
   "cell_type": "markdown",
   "id": "4b96749a-944c-4c63-95d1-2f510f864907",
   "metadata": {},
   "source": [
    "If found, filter these"
   ]
  },
  {
   "cell_type": "code",
   "execution_count": 25,
   "id": "a30a8f4a-4620-40b5-8e01-a3a3a74ca79a",
   "metadata": {},
   "outputs": [],
   "source": [
    "if tiny_boxes_exist:\n",
    "    print(\n",
    "        f\"WARNING: Extremely small objects found. {tiny_boxes_exist} of {len(wh)} labels are < 3 pixels in size.\"\n",
    "    )\n",
    "    wh = wh[(wh >= 2.0).any(1)]  # filter > 2 pixels"
   ]
  },
  {
   "cell_type": "markdown",
   "id": "42d0d425-a839-4073-adee-5557ad4712b3",
   "metadata": {},
   "source": [
    "Now we calculate some metric based on the current anchors"
   ]
  },
  {
   "cell_type": "markdown",
   "id": "78db999c-9125-4e4f-86ca-4e625704873f",
   "metadata": {},
   "source": [
    "### Understanding the metric"
   ]
  },
  {
   "cell_type": "code",
   "execution_count": 78,
   "id": "6cd9dbc1-8fd1-4a28-bccc-cd497eaafc41",
   "metadata": {},
   "outputs": [],
   "source": [
    "def metric(anchors, wh, anchor_thr=4):  # compute metric\n",
    "    # calculates the ratio of the height and width of each bounding box to each anchor template\n",
    "    r = wh[:, None] / anchors[None]\n",
    "    # find min aspect ratio for each bbox\n",
    "    ratio_metric = torch.min(r, 1.0 / r).min(2)[0]\n",
    "    best_ratio = ratio_metric.max(1)[0]  # best_x\n",
    "    aat = (\n",
    "        (ratio_metric > 1.0 / anchor_thr).float().sum(1).mean()\n",
    "    )  # anchors above threshold\n",
    "    bpr = (best_ratio > 1.0 / anchor_thr).float().mean()  # best possible recall\n",
    "    return bpr, aat, ratio_metric, best_ratio\n",
    "\n",
    "\n",
    "def anchor_fitness(anchors, wh, anchor_thr=0.25):  # mutation fitness\n",
    "    _, _, _, best = metric(torch.tensor(anchors, dtype=torch.float32), wh)\n",
    "    return (best * (best > anchor_thr).float()).mean()  # fitness"
   ]
  },
  {
   "cell_type": "markdown",
   "id": "d8f0f3c7-7edf-4864-a05d-2a9f1809e549",
   "metadata": {},
   "source": [
    "calculates the ratio of the height and width of each bounding box to each anchor box (9 here)\n",
    "\n",
    "Calculate the aspect ratio of GT and Anchor Templates"
   ]
  },
  {
   "cell_type": "code",
   "execution_count": 40,
   "id": "93bee5d2-8b7e-4e62-9705-879a4c10ab72",
   "metadata": {
    "scrolled": true,
    "tags": []
   },
   "outputs": [
    {
     "data": {
      "text/plain": [
       "tensor([[[ 3.6662,  2.1414],\n",
       "         [ 2.3155,  0.9518],\n",
       "         [ 1.0999,  1.2237],\n",
       "         ...,\n",
       "         [ 0.3098,  0.3115],\n",
       "         [ 0.2291,  0.1410],\n",
       "         [ 0.0958,  0.0854]],\n",
       "\n",
       "        [[ 8.2972,  2.9228],\n",
       "         [ 5.2403,  1.2990],\n",
       "         [ 2.4891,  1.6702],\n",
       "         ...,\n",
       "         [ 0.7012,  0.4251],\n",
       "         [ 0.5186,  0.1924],\n",
       "         [ 0.2169,  0.1166]],\n",
       "\n",
       "        [[ 9.6864,  3.5305],\n",
       "         [ 6.1178,  1.5691],\n",
       "         [ 2.9059,  2.0174],\n",
       "         ...,\n",
       "         [ 0.8186,  0.5135],\n",
       "         [ 0.6054,  0.2325],\n",
       "         [ 0.2532,  0.1409]],\n",
       "\n",
       "        ...,\n",
       "\n",
       "        [[11.1872,  4.1941],\n",
       "         [ 7.0656,  1.8641],\n",
       "         [ 3.3562,  2.3966],\n",
       "         ...,\n",
       "         [ 0.9454,  0.6101],\n",
       "         [ 0.6992,  0.2762],\n",
       "         [ 0.2925,  0.1673]],\n",
       "\n",
       "        [[10.2161,  3.3495],\n",
       "         [ 6.4523,  1.4887],\n",
       "         [ 3.0648,  1.9140],\n",
       "         ...,\n",
       "         [ 0.8633,  0.4872],\n",
       "         [ 0.6385,  0.2205],\n",
       "         [ 0.2671,  0.1336]],\n",
       "\n",
       "        [[10.0219,  3.2912],\n",
       "         [ 6.3296,  1.4628],\n",
       "         [ 3.0066,  1.8807],\n",
       "         ...,\n",
       "         [ 0.8469,  0.4787],\n",
       "         [ 0.6264,  0.2167],\n",
       "         [ 0.2620,  0.1313]]], dtype=torch.float64)"
      ]
     },
     "execution_count": 40,
     "metadata": {},
     "output_type": "execute_result"
    }
   ],
   "source": [
    "r = wh[:, None]/ current_anchors[None]; r"
   ]
  },
  {
   "cell_type": "code",
   "execution_count": 41,
   "id": "dad4c05d-262a-45aa-a894-16834f604e1e",
   "metadata": {},
   "outputs": [
    {
     "data": {
      "text/plain": [
       "torch.Size([397, 9, 2])"
      ]
     },
     "execution_count": 41,
     "metadata": {},
     "output_type": "execute_result"
    }
   ],
   "source": [
    "r.shape"
   ]
  },
  {
   "cell_type": "markdown",
   "id": "a8bdf6e8-55fc-4c73-8bce-065501c217d0",
   "metadata": {},
   "source": [
    "For 397 boxes, we have 9 anchors, then a width and height"
   ]
  },
  {
   "cell_type": "code",
   "execution_count": 45,
   "id": "22c0c32c-4246-44d6-885d-96e4485c07d3",
   "metadata": {},
   "outputs": [
    {
     "data": {
      "text/plain": [
       "tensor([[ 12.,  16.],\n",
       "        [ 19.,  36.],\n",
       "        [ 40.,  28.],\n",
       "        [ 36.,  75.],\n",
       "        [ 76.,  55.],\n",
       "        [ 72., 146.],\n",
       "        [142., 110.],\n",
       "        [192., 243.],\n",
       "        [459., 401.]])"
      ]
     },
     "execution_count": 45,
     "metadata": {},
     "output_type": "execute_result"
    }
   ],
   "source": [
    "current_anchors"
   ]
  },
  {
   "cell_type": "code",
   "execution_count": 46,
   "id": "d48d8984-36d3-4b9a-b066-b0f67a6eea6a",
   "metadata": {},
   "outputs": [
    {
     "data": {
      "text/plain": [
       "array([43.99421122, 34.26317273])"
      ]
     },
     "execution_count": 46,
     "metadata": {},
     "output_type": "execute_result"
    }
   ],
   "source": [
    "wh[0]"
   ]
  },
  {
   "cell_type": "code",
   "execution_count": 44,
   "id": "c54666c8-a2db-4293-b0f8-5416864c80c1",
   "metadata": {},
   "outputs": [
    {
     "data": {
      "text/plain": [
       "tensor([[3.6662, 2.1414],\n",
       "        [2.3155, 0.9518],\n",
       "        [1.0999, 1.2237],\n",
       "        [1.2221, 0.4568],\n",
       "        [0.5789, 0.6230],\n",
       "        [0.6110, 0.2347],\n",
       "        [0.3098, 0.3115],\n",
       "        [0.2291, 0.1410],\n",
       "        [0.0958, 0.0854]], dtype=torch.float64)"
      ]
     },
     "execution_count": 44,
     "metadata": {},
     "output_type": "execute_result"
    }
   ],
   "source": [
    "r[0]"
   ]
  },
  {
   "cell_type": "code",
   "execution_count": 47,
   "id": "44f784d0-9de7-4d5f-8c6b-d26b9043760f",
   "metadata": {},
   "outputs": [
    {
     "data": {
      "text/plain": [
       "tensor([[3.6662, 2.1414],\n",
       "        [2.3155, 0.9518],\n",
       "        [1.0999, 1.2237],\n",
       "        [1.2221, 0.4568],\n",
       "        [0.5789, 0.6230],\n",
       "        [0.6110, 0.2347],\n",
       "        [0.3098, 0.3115],\n",
       "        [0.2291, 0.1410],\n",
       "        [0.0958, 0.0854]], dtype=torch.float64)"
      ]
     },
     "execution_count": 47,
     "metadata": {},
     "output_type": "execute_result"
    }
   ],
   "source": [
    "wh[0]/current_anchors"
   ]
  },
  {
   "cell_type": "code",
   "execution_count": 48,
   "id": "7ebdd357-c8d6-4608-87ae-6baadc673d17",
   "metadata": {},
   "outputs": [
    {
     "data": {
      "text/plain": [
       "tensor([[0.2728, 0.4319, 0.8172,  ..., 0.3098, 0.1410, 0.0854],\n",
       "        [0.1205, 0.1908, 0.4017,  ..., 0.4251, 0.1924, 0.1166],\n",
       "        [0.1032, 0.1635, 0.3441,  ..., 0.5135, 0.2325, 0.1409],\n",
       "        ...,\n",
       "        [0.0894, 0.1415, 0.2980,  ..., 0.6101, 0.2762, 0.1673],\n",
       "        [0.0979, 0.1550, 0.3263,  ..., 0.4872, 0.2205, 0.1336],\n",
       "        [0.0998, 0.1580, 0.3326,  ..., 0.4787, 0.2167, 0.1313]],\n",
       "       dtype=torch.float64)"
      ]
     },
     "execution_count": 48,
     "metadata": {},
     "output_type": "execute_result"
    }
   ],
   "source": [
    "ratio_metric = torch.min(r, 1.0 / r).min(2)[0]; ratio_metric"
   ]
  },
  {
   "cell_type": "code",
   "execution_count": 52,
   "id": "b4664a66-3128-4da9-9bb3-f658cd622485",
   "metadata": {
    "scrolled": true,
    "tags": []
   },
   "outputs": [
    {
     "data": {
      "text/plain": [
       "tensor([[[ 0.2728,  0.4670],\n",
       "         [ 0.4319,  1.0507],\n",
       "         [ 0.9092,  0.8172],\n",
       "         ...,\n",
       "         [ 3.2277,  3.2104],\n",
       "         [ 4.3642,  7.0922],\n",
       "         [10.4332, 11.7035]],\n",
       "\n",
       "        [[ 0.1205,  0.3421],\n",
       "         [ 0.1908,  0.7698],\n",
       "         [ 0.4017,  0.5987],\n",
       "         ...,\n",
       "         [ 1.4262,  2.3522],\n",
       "         [ 1.9284,  5.1962],\n",
       "         [ 4.6100,  8.5749]],\n",
       "\n",
       "        [[ 0.1032,  0.2832],\n",
       "         [ 0.1635,  0.6373],\n",
       "         [ 0.3441,  0.4957],\n",
       "         ...,\n",
       "         [ 1.2216,  1.9473],\n",
       "         [ 1.6518,  4.3018],\n",
       "         [ 3.9488,  7.0989]],\n",
       "\n",
       "        ...,\n",
       "\n",
       "        [[ 0.0894,  0.2384],\n",
       "         [ 0.1415,  0.5365],\n",
       "         [ 0.2980,  0.4172],\n",
       "         ...,\n",
       "         [ 1.0578,  1.6392],\n",
       "         [ 1.4302,  3.6211],\n",
       "         [ 3.4191,  5.9756]],\n",
       "\n",
       "        [[ 0.0979,  0.2986],\n",
       "         [ 0.1550,  0.6717],\n",
       "         [ 0.3263,  0.5225],\n",
       "         ...,\n",
       "         [ 1.1583,  2.0526],\n",
       "         [ 1.5662,  4.5343],\n",
       "         [ 3.7441,  7.4825]],\n",
       "\n",
       "        [[ 0.0998,  0.3038],\n",
       "         [ 0.1580,  0.6836],\n",
       "         [ 0.3326,  0.5317],\n",
       "         ...,\n",
       "         [ 1.1808,  2.0889],\n",
       "         [ 1.5965,  4.6145],\n",
       "         [ 3.8167,  7.6149]]], dtype=torch.float64)"
      ]
     },
     "execution_count": 52,
     "metadata": {},
     "output_type": "execute_result"
    }
   ],
   "source": [
    "1/r"
   ]
  },
  {
   "cell_type": "markdown",
   "id": "12bc413d-ce00-4345-a5ce-272f57537281",
   "metadata": {},
   "source": [
    "Here, we take 1/r as the min. We then keep whichever is the min our of width and height"
   ]
  },
  {
   "cell_type": "code",
   "execution_count": 53,
   "id": "d635bed3-1520-4ab7-8ece-1b66dbcddbed",
   "metadata": {},
   "outputs": [
    {
     "data": {
      "text/plain": [
       "tensor([[0.2728, 0.4319, 0.8172,  ..., 0.3098, 0.1410, 0.0854],\n",
       "        [0.1205, 0.1908, 0.4017,  ..., 0.4251, 0.1924, 0.1166],\n",
       "        [0.1032, 0.1635, 0.3441,  ..., 0.5135, 0.2325, 0.1409],\n",
       "        ...,\n",
       "        [0.0894, 0.1415, 0.2980,  ..., 0.6101, 0.2762, 0.1673],\n",
       "        [0.0979, 0.1550, 0.3263,  ..., 0.4872, 0.2205, 0.1336],\n",
       "        [0.0998, 0.1580, 0.3326,  ..., 0.4787, 0.2167, 0.1313]],\n",
       "       dtype=torch.float64)"
      ]
     },
     "execution_count": 53,
     "metadata": {},
     "output_type": "execute_result"
    }
   ],
   "source": [
    "torch.min(r, 1.0 / r).min(2)[0]"
   ]
  },
  {
   "cell_type": "code",
   "execution_count": 54,
   "id": "ff412048-e0ab-4c70-981e-4d96cb360df5",
   "metadata": {},
   "outputs": [
    {
     "data": {
      "text/plain": [
       "torch.Size([397, 9])"
      ]
     },
     "execution_count": 54,
     "metadata": {},
     "output_type": "execute_result"
    }
   ],
   "source": [
    "ratio_metric.shape"
   ]
  },
  {
   "cell_type": "code",
   "execution_count": 56,
   "id": "692c8bee-6e98-40d4-9d82-8d0b080e047c",
   "metadata": {},
   "outputs": [
    {
     "data": {
      "text/plain": [
       "tensor([0.2728, 0.4319, 0.8172, 0.4568, 0.5789, 0.2347, 0.3098, 0.1410, 0.0854],\n",
       "       dtype=torch.float64)"
      ]
     },
     "execution_count": 56,
     "metadata": {},
     "output_type": "execute_result"
    }
   ],
   "source": [
    "ratio_metric[0]"
   ]
  },
  {
   "cell_type": "markdown",
   "id": "5f190bf2-ed26-4d30-b61f-0960db5bdcb0",
   "metadata": {},
   "source": [
    "now, we find the best ratio for each box"
   ]
  },
  {
   "cell_type": "code",
   "execution_count": 58,
   "id": "5c528601-f317-4b70-abfb-d64827f7a848",
   "metadata": {},
   "outputs": [],
   "source": [
    "best_ratio = ratio_metric.max(1)[0]"
   ]
  },
  {
   "cell_type": "code",
   "execution_count": 59,
   "id": "9cf54d6d-eeb0-4dd4-b062-d6c5423e21c8",
   "metadata": {},
   "outputs": [
    {
     "data": {
      "text/plain": [
       "tensor([0.8172, 0.7633, 0.6538, 0.6925, 0.6188], dtype=torch.float64)"
      ]
     },
     "execution_count": 59,
     "metadata": {},
     "output_type": "execute_result"
    }
   ],
   "source": [
    "best_ratio[:5]"
   ]
  },
  {
   "cell_type": "code",
   "execution_count": 60,
   "id": "9a907aba-b14c-49fd-af4d-63a1e85745d9",
   "metadata": {},
   "outputs": [],
   "source": [
    "anchor_thr = 4"
   ]
  },
  {
   "cell_type": "markdown",
   "id": "17dcec75-157c-42bc-bcff-954f8d30f363",
   "metadata": {},
   "source": [
    "anchor_t is the anchor width and height multiple threshold used to select label-anchor matches when computing loss."
   ]
  },
  {
   "cell_type": "markdown",
   "id": "b08f86f0-9747-4720-bc4b-c43090f9a7f6",
   "metadata": {},
   "source": [
    "Mean anchors above ratio threshold for each box"
   ]
  },
  {
   "cell_type": "code",
   "execution_count": 72,
   "id": "ac2be620-df55-47d0-9113-a78714a8ae5a",
   "metadata": {},
   "outputs": [
    {
     "data": {
      "text/plain": [
       "tensor([[ True,  True,  True,  ...,  True, False, False],\n",
       "        [False, False,  True,  ...,  True, False, False],\n",
       "        [False, False,  True,  ...,  True, False, False],\n",
       "        ...,\n",
       "        [False, False,  True,  ...,  True,  True, False],\n",
       "        [False, False,  True,  ...,  True, False, False],\n",
       "        [False, False,  True,  ...,  True, False, False]])"
      ]
     },
     "execution_count": 72,
     "metadata": {},
     "output_type": "execute_result"
    }
   ],
   "source": [
    "(ratio_metric > 1. / anchor_thr)"
   ]
  },
  {
   "cell_type": "code",
   "execution_count": 73,
   "id": "349d8d28-ea44-484b-a130-79b16fedbe6e",
   "metadata": {},
   "outputs": [
    {
     "data": {
      "text/plain": [
       "torch.Size([397, 9])"
      ]
     },
     "execution_count": 73,
     "metadata": {},
     "output_type": "execute_result"
    }
   ],
   "source": [
    "(ratio_metric > 1. / anchor_thr).shape"
   ]
  },
  {
   "cell_type": "code",
   "execution_count": 70,
   "id": "eb9a483e-df8d-4789-913c-bfdf0a59a566",
   "metadata": {},
   "outputs": [
    {
     "data": {
      "text/plain": [
       "torch.Size([397])"
      ]
     },
     "execution_count": 70,
     "metadata": {},
     "output_type": "execute_result"
    }
   ],
   "source": [
    "(ratio_metric > 1. / anchor_thr).float().sum(1).shape"
   ]
  },
  {
   "cell_type": "code",
   "execution_count": 74,
   "id": "112ac039-fb01-4159-bcaf-9fe2d763f838",
   "metadata": {},
   "outputs": [
    {
     "data": {
      "text/plain": [
       "tensor(4.8388)"
      ]
     },
     "execution_count": 74,
     "metadata": {},
     "output_type": "execute_result"
    }
   ],
   "source": [
    "aat = (ratio_metric > 1. / anchor_thr).float().sum(1).mean(); aat # anchors above threshold"
   ]
  },
  {
   "cell_type": "code",
   "execution_count": 75,
   "id": "314c1acf-306f-4a1b-bf53-ec3d2a586379",
   "metadata": {},
   "outputs": [
    {
     "data": {
      "text/plain": [
       "tensor(1.)"
      ]
     },
     "execution_count": 75,
     "metadata": {},
     "output_type": "execute_result"
    }
   ],
   "source": [
    "bpr = (best_ratio > 1. / anchor_thr).float().mean(); bpr  # best possible recall"
   ]
  },
  {
   "cell_type": "markdown",
   "id": "96835035-5448-44c4-9859-7db31ef31dbe",
   "metadata": {},
   "source": [
    "best possible recall is achieved if each bounding box is mapped to the optimal anchor"
   ]
  },
  {
   "cell_type": "code",
   "execution_count": 79,
   "id": "c6b8185f-8660-4d3e-a135-e54edd66ce1f",
   "metadata": {},
   "outputs": [
    {
     "data": {
      "text/plain": [
       "(tensor(1.), tensor(4.8388))"
      ]
     },
     "execution_count": 79,
     "metadata": {},
     "output_type": "execute_result"
    }
   ],
   "source": [
    "bpr, aat, _, _ = metric(current_anchors, wh); bpr, aat"
   ]
  },
  {
   "cell_type": "markdown",
   "id": "f291825d-6e3b-4889-8982-1b714b93f845",
   "metadata": {},
   "source": [
    "## Finding new anchors"
   ]
  },
  {
   "cell_type": "markdown",
   "id": "d7ed6e4f-7869-4b4d-88e5-6eba6d2ad48d",
   "metadata": {},
   "source": [
    "if BPR is less than a set threshold, we try to find new ones. This is done using kmeans mutation.\n",
    "\n",
    "From yolov5: When generating new anchors, autoanchor first applies a kmeans function against your dataset labels (scaled to your training --img-size), and uses kmeans centroids as initial conditions for a Genetic Evolution (GE) algorithm. The GE algorithm will evolve all anchors for 1000 generations under default settings, using CIoU loss (same regression loss used during training) combined with Best Possible Recall (BPR) as its fitness function."
   ]
  },
  {
   "cell_type": "code",
   "execution_count": 82,
   "id": "eaa9182d-106e-4219-b54e-e9cb7264d647",
   "metadata": {},
   "outputs": [
    {
     "data": {
      "text/plain": [
       "9"
      ]
     },
     "execution_count": 82,
     "metadata": {},
     "output_type": "execute_result"
    }
   ],
   "source": [
    "num_anchors = current_anchors.shape[0]  # number of anchors\n",
    "num_anchors"
   ]
  },
  {
   "cell_type": "code",
   "execution_count": 83,
   "id": "6124002a-d9e5-44ee-b38d-be86698dbc28",
   "metadata": {},
   "outputs": [],
   "source": [
    "std_dev = wh.std(0)  # sigmas for whitening"
   ]
  },
  {
   "cell_type": "code",
   "execution_count": 84,
   "id": "47e2b499-3bc5-4c9e-bed4-7f41be804348",
   "metadata": {},
   "outputs": [
    {
     "data": {
      "text/plain": [
       "array([38.48648399, 13.16195295])"
      ]
     },
     "execution_count": 84,
     "metadata": {},
     "output_type": "execute_result"
    }
   ],
   "source": [
    "std_dev"
   ]
  },
  {
   "cell_type": "code",
   "execution_count": 125,
   "id": "9693ec26-1d04-43ab-9668-f1743227c9ce",
   "metadata": {},
   "outputs": [],
   "source": [
    "from scipy.cluster.vq import kmeans\n",
    "\n",
    "proposed_anchors, mean_dist = kmeans(\n",
    "    wh / std_dev, num_anchors, iter=30\n",
    ")  # points, mean distance\n",
    "\n",
    "        "
   ]
  },
  {
   "cell_type": "code",
   "execution_count": 126,
   "id": "7f7fa618-aadc-4417-98a6-e4fc5567b09a",
   "metadata": {},
   "outputs": [
    {
     "data": {
      "text/plain": [
       "array([[4.84037922, 6.38960001],\n",
       "       [1.70562878, 2.11071187],\n",
       "       [2.98015171, 4.24949236],\n",
       "       [2.29140338, 2.74305434],\n",
       "       [1.3642275 , 2.75900649],\n",
       "       [4.07489183, 4.35580956],\n",
       "       [1.77031345, 3.77507718],\n",
       "       [0.86165501, 1.87678096],\n",
       "       [2.93185848, 3.26096993]])"
      ]
     },
     "execution_count": 126,
     "metadata": {},
     "output_type": "execute_result"
    }
   ],
   "source": [
    "proposed_anchors"
   ]
  },
  {
   "cell_type": "code",
   "execution_count": 127,
   "id": "47116fa3-a12e-4f9f-afb1-e397218c5732",
   "metadata": {},
   "outputs": [],
   "source": [
    "proposed_anchors *= std_dev"
   ]
  },
  {
   "cell_type": "code",
   "execution_count": 128,
   "id": "adc023d3-800a-4cf6-9603-f1afe409fb61",
   "metadata": {},
   "outputs": [
    {
     "data": {
      "text/plain": [
       "array([[186.28917753,  84.09961466],\n",
       "       [ 65.64365476,  27.78109036],\n",
       "       [114.69556103,  55.93161855],\n",
       "       [ 88.18805967,  36.10395215],\n",
       "       [ 52.50431968,  36.3139136 ],\n",
       "       [156.82825935,  57.33096044],\n",
       "       [ 68.13314033,  49.68738818],\n",
       "       [ 33.16207192,  24.7021027 ],\n",
       "       [112.83692462,  42.92073276]])"
      ]
     },
     "execution_count": 128,
     "metadata": {},
     "output_type": "execute_result"
    }
   ],
   "source": [
    "proposed_anchors"
   ]
  },
  {
   "cell_type": "code",
   "execution_count": null,
   "id": "1d08c809-ffeb-4537-881a-6238eeed96e1",
   "metadata": {},
   "outputs": [],
   "source": []
  },
  {
   "cell_type": "code",
   "execution_count": 129,
   "id": "3e26585b-bdd9-41ec-8051-b3ea7c045db8",
   "metadata": {},
   "outputs": [
    {
     "name": "stderr",
     "output_type": "stream",
     "text": [
      "/opt/conda/lib/python3.7/site-packages/ipykernel_launcher.py:1: UserWarning: To copy construct from a tensor, it is recommended to use sourceTensor.clone().detach() or sourceTensor.clone().detach().requires_grad_(True), rather than torch.tensor(sourceTensor).\n",
      "  \"\"\"Entry point for launching an IPython kernel.\n"
     ]
    }
   ],
   "source": [
    "wh = torch.tensor(wh, dtype=torch.float32)"
   ]
  },
  {
   "cell_type": "code",
   "execution_count": 130,
   "id": "39e19154-aa47-47f6-9139-202697e22ec8",
   "metadata": {},
   "outputs": [],
   "source": [
    "\n",
    "def anchor_fitness(anchors, wh, anchor_thr=0.25):  # mutation fitness\n",
    "    _, _, _, best = metric(torch.tensor(anchors, dtype=torch.float32), wh)\n",
    "    return (best * (best > anchor_thr).float()).mean()  # fitness"
   ]
  },
  {
   "cell_type": "code",
   "execution_count": 131,
   "id": "c0948f05-1179-4d72-aca3-864d7f7f783b",
   "metadata": {},
   "outputs": [],
   "source": [
    " f, sh, mp, s = (\n",
    "            anchor_fitness(proposed_anchors, wh, anchor_thr),\n",
    "            proposed_anchors.shape,\n",
    "            0.9,\n",
    "            0.1,\n",
    "        )  # fitness, generations, mutation prob, sigma"
   ]
  },
  {
   "cell_type": "code",
   "execution_count": 132,
   "id": "7b7514cf-07ad-4a27-b5a0-f9b67a7ed8ba",
   "metadata": {},
   "outputs": [
    {
     "data": {
      "text/plain": [
       "(9, 2)"
      ]
     },
     "execution_count": 132,
     "metadata": {},
     "output_type": "execute_result"
    }
   ],
   "source": [
    "proposed_anchors.shape"
   ]
  },
  {
   "cell_type": "code",
   "execution_count": 133,
   "id": "2197e99b-39ea-4739-8dc9-0fc918c41c5c",
   "metadata": {},
   "outputs": [
    {
     "data": {
      "text/plain": [
       "(tensor(0.), (9, 2), 0.9, 0.1)"
      ]
     },
     "execution_count": 133,
     "metadata": {},
     "output_type": "execute_result"
    }
   ],
   "source": [
    " f, sh, mp, s"
   ]
  },
  {
   "cell_type": "code",
   "execution_count": null,
   "id": "18f55a8c-8abc-4e36-a208-944fac512844",
   "metadata": {},
   "outputs": [],
   "source": []
  },
  {
   "cell_type": "code",
   "execution_count": 134,
   "id": "57c7cd8a-3f4b-4d33-b052-482bc12f7a98",
   "metadata": {},
   "outputs": [
    {
     "name": "stderr",
     "output_type": "stream",
     "text": [
      "Evolving anchors with Genetic Algorithm: fitness = 0.8907: 100%\n"
     ]
    }
   ],
   "source": [
    "from tqdm import tqdm\n",
    "\n",
    "import numpy as np\n",
    "\n",
    "\n",
    "def print_results(k, wh, n, anchor_thr=0.25, img_size=1280):\n",
    "    k = k[np.argsort(k.prod(1))]  # sort small to large\n",
    "    bpr, aat, x, best = metric(k, wh)\n",
    "    print(\n",
    "        f\"anchor_thr={anchor_thr:.2f}: {bpr:.4f} best possible recall, {aat:.2f} anchors past thr\"\n",
    "    )\n",
    "    print(\n",
    "        f\"n={n}, img_size={img_size}, metric_all={x.mean():.3f}/{best.mean():.3f}-mean/best, \"\n",
    "        f\"past_thr={x[x > anchor_thr].mean():.3f}-mean: \",\n",
    "        end=\"\",\n",
    "    )\n",
    "    for i, x in enumerate(k):\n",
    "        print(\n",
    "            \"%i,%i\" % (round(x[0]), round(x[1])), end=\",  \" if i < len(k) - 1 else \"\\n\"\n",
    "        )  # use in *.cfg\n",
    "    return k\n",
    "\n",
    "\n",
    "gen=1000\n",
    "verbose=False\n",
    "\n",
    "# Evolve\n",
    "npr = np.random\n",
    "f, sh, mp, s = anchor_fitness(proposed_anchors, wh, anchor_thr), proposed_anchors.shape, 0.9, 0.1  # fitness, generations, mutation prob, sigma\n",
    "pbar = tqdm(range(gen), desc=f'Evolving anchors with Genetic Algorithm:')  # progress bar\n",
    "for _ in pbar:\n",
    "    v = np.ones(sh)\n",
    "    while (v == 1).all():  # mutate until a change occurs (prevent duplicates)\n",
    "        v = ((npr.random(sh) < mp) * npr.random() * npr.randn(*sh) * s + 1).clip(0.3, 3.0)\n",
    "    kg = (proposed_anchors.copy() * v).clip(min=2.0)\n",
    "    fg = anchor_fitness(kg, wh, 1/anchor_thr)\n",
    "    if fg > f:\n",
    "        f, proposed_anchors = fg, kg.copy()\n",
    "        pbar.desc = f'Evolving anchors with Genetic Algorithm: fitness = {f:.4f}'\n",
    "        if verbose:\n",
    "            print_results(proposed_anchors, wh, num_anchors, 1/anchor_thr)"
   ]
  },
  {
   "cell_type": "code",
   "execution_count": 135,
   "id": "f70b5599-6194-4606-a3fb-9ddf13462e17",
   "metadata": {},
   "outputs": [
    {
     "data": {
      "text/plain": [
       "array([[177.49954053,  78.03505999],\n",
       "       [ 68.28449999,  28.57122285],\n",
       "       [118.11295599,  53.74889327],\n",
       "       [ 92.06560503,  35.47469978],\n",
       "       [ 50.7994699 ,  36.33766281],\n",
       "       [156.70943281,  54.57287525],\n",
       "       [ 71.94031317,  39.15593697],\n",
       "       [ 34.23853292,  27.11267641],\n",
       "       [110.16710071,  42.43082392]])"
      ]
     },
     "execution_count": 135,
     "metadata": {},
     "output_type": "execute_result"
    }
   ],
   "source": [
    "proposed_anchors"
   ]
  },
  {
   "cell_type": "code",
   "execution_count": 136,
   "id": "7e55ec6a-6439-406e-b9f3-00bb40b93d45",
   "metadata": {},
   "outputs": [
    {
     "data": {
      "text/plain": [
       "tensor(1.)"
      ]
     },
     "execution_count": 136,
     "metadata": {},
     "output_type": "execute_result"
    }
   ],
   "source": [
    "new_bpr, _, _, _ = metric(proposed_anchors, wh); new_bpr"
   ]
  },
  {
   "cell_type": "markdown",
   "id": "3ecca5a7-e476-42dc-bcd2-53f102b7eb44",
   "metadata": {},
   "source": [
    "### Update anchors"
   ]
  },
  {
   "cell_type": "markdown",
   "id": "fc60d168-f01b-4588-9c4f-40c5ad167587",
   "metadata": {},
   "source": [
    "Convert to tensor"
   ]
  },
  {
   "cell_type": "code",
   "execution_count": 137,
   "id": "2103cabb-3df3-4e4f-be1e-afb6bce2e657",
   "metadata": {},
   "outputs": [],
   "source": [
    "proposed_anchors = torch.tensor(proposed_anchors, device=model.detection_head.anchors.device).type_as(\n",
    "        model.detection_head.anchors\n",
    "    )"
   ]
  },
  {
   "cell_type": "code",
   "execution_count": 138,
   "id": "d8766283-0bc2-48cc-a662-5dc6e849b439",
   "metadata": {},
   "outputs": [
    {
     "data": {
      "text/plain": [
       "tensor([[177.4995,  78.0351],\n",
       "        [ 68.2845,  28.5712],\n",
       "        [118.1130,  53.7489],\n",
       "        [ 92.0656,  35.4747],\n",
       "        [ 50.7995,  36.3377],\n",
       "        [156.7094,  54.5729],\n",
       "        [ 71.9403,  39.1559],\n",
       "        [ 34.2385,  27.1127],\n",
       "        [110.1671,  42.4308]])"
      ]
     },
     "execution_count": 138,
     "metadata": {},
     "output_type": "execute_result"
    }
   ],
   "source": [
    "proposed_anchors"
   ]
  },
  {
   "cell_type": "markdown",
   "id": "640ff006-a259-452a-bf47-c728422f435d",
   "metadata": {},
   "source": [
    "update anchor grid with"
   ]
  },
  {
   "cell_type": "code",
   "execution_count": 139,
   "id": "85f2a4ee-63ef-4e69-9e01-46a5f467d8f7",
   "metadata": {},
   "outputs": [],
   "source": [
    "proposed_anchor_grid = proposed_anchors.clone().view_as(\n",
    "        model.detection_head.anchor_grid\n",
    "    )  # for inference"
   ]
  },
  {
   "cell_type": "code",
   "execution_count": 141,
   "id": "fe0624ab-06d4-4c23-a103-83522ed061a9",
   "metadata": {},
   "outputs": [
    {
     "data": {
      "text/plain": [
       "tensor([[[[[[177.4995,  78.0351]]],\n",
       "\n",
       "\n",
       "          [[[ 68.2845,  28.5712]]],\n",
       "\n",
       "\n",
       "          [[[118.1130,  53.7489]]]]],\n",
       "\n",
       "\n",
       "\n",
       "\n",
       "        [[[[[ 92.0656,  35.4747]]],\n",
       "\n",
       "\n",
       "          [[[ 50.7995,  36.3377]]],\n",
       "\n",
       "\n",
       "          [[[156.7094,  54.5729]]]]],\n",
       "\n",
       "\n",
       "\n",
       "\n",
       "        [[[[[ 71.9403,  39.1559]]],\n",
       "\n",
       "\n",
       "          [[[ 34.2385,  27.1127]]],\n",
       "\n",
       "\n",
       "          [[[110.1671,  42.4308]]]]]])"
      ]
     },
     "execution_count": 141,
     "metadata": {},
     "output_type": "execute_result"
    }
   ],
   "source": [
    "proposed_anchor_grid"
   ]
  },
  {
   "cell_type": "code",
   "execution_count": 140,
   "id": "0b3d9dbc-0971-402a-bc75-6421764c0d5d",
   "metadata": {},
   "outputs": [
    {
     "data": {
      "text/plain": [
       "torch.Size([3, 1, 3, 1, 1, 2])"
      ]
     },
     "execution_count": 140,
     "metadata": {},
     "output_type": "execute_result"
    }
   ],
   "source": [
    "proposed_anchor_grid.shape"
   ]
  },
  {
   "cell_type": "code",
   "execution_count": 113,
   "id": "8e882ed1-7ace-4411-bf62-7dcf8c52b8ec",
   "metadata": {},
   "outputs": [
    {
     "data": {
      "text/plain": [
       "torch.Size([3, 1, 3, 1, 1, 2])"
      ]
     },
     "execution_count": 113,
     "metadata": {},
     "output_type": "execute_result"
    }
   ],
   "source": [
    "model.detection_head.anchor_grid.shape"
   ]
  },
  {
   "cell_type": "markdown",
   "id": "1a0d0023-19fa-4c2f-9119-8b51670dae2c",
   "metadata": {},
   "source": []
  },
  {
   "cell_type": "code",
   "execution_count": 142,
   "id": "a4beb284-687c-4feb-adff-0294b8f277be",
   "metadata": {},
   "outputs": [],
   "source": [
    "proposed_anchors = proposed_anchors.clone().view_as(\n",
    "        model.detection_head.anchors\n",
    "    ) / model.detection_head.stride.to(model.detection_head.anchors.device).view(\n",
    "        -1, 1, 1\n",
    "    )  # loss"
   ]
  },
  {
   "cell_type": "code",
   "execution_count": 143,
   "id": "97f56e9a-cd99-450b-a5c2-1d8aa1cd938c",
   "metadata": {},
   "outputs": [
    {
     "data": {
      "text/plain": [
       "tensor([[[22.1874,  9.7544],\n",
       "         [ 8.5356,  3.5714],\n",
       "         [14.7641,  6.7186]],\n",
       "\n",
       "        [[ 5.7541,  2.2172],\n",
       "         [ 3.1750,  2.2711],\n",
       "         [ 9.7943,  3.4108]],\n",
       "\n",
       "        [[ 2.2481,  1.2236],\n",
       "         [ 1.0700,  0.8473],\n",
       "         [ 3.4427,  1.3260]]])"
      ]
     },
     "execution_count": 143,
     "metadata": {},
     "output_type": "execute_result"
    }
   ],
   "source": [
    "proposed_anchors"
   ]
  },
  {
   "cell_type": "code",
   "execution_count": 145,
   "id": "334fb496-aacf-4db2-adf6-4e27cb0a0b5e",
   "metadata": {},
   "outputs": [
    {
     "data": {
      "text/plain": [
       "torch.Size([3, 3, 2])"
      ]
     },
     "execution_count": 145,
     "metadata": {},
     "output_type": "execute_result"
    }
   ],
   "source": [
    "proposed_anchors.shape"
   ]
  },
  {
   "cell_type": "code",
   "execution_count": 144,
   "id": "91beb8af-c877-41db-bc8f-adc1671d1462",
   "metadata": {},
   "outputs": [
    {
     "data": {
      "text/plain": [
       "torch.Size([3, 3, 2])"
      ]
     },
     "execution_count": 144,
     "metadata": {},
     "output_type": "execute_result"
    }
   ],
   "source": [
    "model.detection_head.anchors.shape"
   ]
  },
  {
   "cell_type": "markdown",
   "id": "9f942733-d464-40f9-935e-94d16ed71407",
   "metadata": {},
   "source": [
    "check anchor order"
   ]
  },
  {
   "cell_type": "code",
   "execution_count": 123,
   "id": "6ddb5b16-45ad-46e8-8931-5c61f41a4431",
   "metadata": {},
   "outputs": [],
   "source": [
    "def check_anchor_order(m):\n",
    "    # Check anchor order against stride order for YOLO Detect() module m, and correct if necessary\n",
    "    a = m.anchor_grid.prod(-1).view(-1)  # anchor area\n",
    "    da = a[-1] - a[0]  # delta a\n",
    "    ds = m.stride[-1] - m.stride[0]  # delta s\n",
    "    if da.sign() != ds.sign():  # same order\n",
    "        print(\"Reversing anchor order\")\n",
    "        m.anchors[:] = m.anchors.flip(0)\n",
    "        m.anchor_grid[:] = m.anchor_grid.flip(0)"
   ]
  },
  {
   "cell_type": "code",
   "execution_count": 147,
   "id": "e28ad318-ccad-4f50-9e74-f1ee13b06367",
   "metadata": {},
   "outputs": [],
   "source": [
    "a = proposed_anchor_grid.prod(-1).view(-1)  # anchor area"
   ]
  },
  {
   "cell_type": "code",
   "execution_count": 148,
   "id": "da59b086-32e0-4ea0-8a82-0f1d5e3d068f",
   "metadata": {},
   "outputs": [
    {
     "data": {
      "text/plain": [
       "tensor([13851.1865,  1950.9717,  6348.4404,  3265.9998,  1845.9340,  8552.0840,\n",
       "         2816.8904,   928.2983,  4674.4810])"
      ]
     },
     "execution_count": 148,
     "metadata": {},
     "output_type": "execute_result"
    }
   ],
   "source": [
    "a"
   ]
  },
  {
   "cell_type": "code",
   "execution_count": 149,
   "id": "96b4fe25-83f7-4b2a-949d-36a353d161ba",
   "metadata": {},
   "outputs": [
    {
     "data": {
      "text/plain": [
       "tensor(-9176.7051)"
      ]
     },
     "execution_count": 149,
     "metadata": {},
     "output_type": "execute_result"
    }
   ],
   "source": [
    "da = a[-1] - a[0]; da"
   ]
  },
  {
   "cell_type": "code",
   "execution_count": 158,
   "id": "f78b8f4f-222b-4b3f-97d7-65710f3c37ad",
   "metadata": {},
   "outputs": [
    {
     "data": {
      "text/plain": [
       "tensor(24.)"
      ]
     },
     "execution_count": 158,
     "metadata": {},
     "output_type": "execute_result"
    }
   ],
   "source": [
    "ds = model.detection_head.stride[-1] - model.detection_head.stride[0]; ds"
   ]
  },
  {
   "cell_type": "code",
   "execution_count": 160,
   "id": "3c1f3e79-32c1-4aa2-9e2e-e4ba14c5d7c9",
   "metadata": {},
   "outputs": [
    {
     "name": "stdout",
     "output_type": "stream",
     "text": [
      "Reversing anchor order\n"
     ]
    }
   ],
   "source": [
    "if da.sign() != ds.sign():\n",
    "    print(\"Reversing anchor order\")"
   ]
  },
  {
   "cell_type": "code",
   "execution_count": 161,
   "id": "8e10720c-c525-46b2-a7aa-f5efd003c164",
   "metadata": {},
   "outputs": [
    {
     "data": {
      "text/plain": [
       "tensor([[[ 2.2481,  1.2236],\n",
       "         [ 1.0700,  0.8473],\n",
       "         [ 3.4427,  1.3260]],\n",
       "\n",
       "        [[ 5.7541,  2.2172],\n",
       "         [ 3.1750,  2.2711],\n",
       "         [ 9.7943,  3.4108]],\n",
       "\n",
       "        [[22.1874,  9.7544],\n",
       "         [ 8.5356,  3.5714],\n",
       "         [14.7641,  6.7186]]])"
      ]
     },
     "execution_count": 161,
     "metadata": {},
     "output_type": "execute_result"
    }
   ],
   "source": [
    "proposed_anchors.flip(0)"
   ]
  },
  {
   "cell_type": "code",
   "execution_count": 162,
   "id": "646a23ad-99ab-4091-af06-ca6a1fe9e373",
   "metadata": {},
   "outputs": [
    {
     "data": {
      "text/plain": [
       "tensor([[[[[[ 71.9403,  39.1559]]],\n",
       "\n",
       "\n",
       "          [[[ 34.2385,  27.1127]]],\n",
       "\n",
       "\n",
       "          [[[110.1671,  42.4308]]]]],\n",
       "\n",
       "\n",
       "\n",
       "\n",
       "        [[[[[ 92.0656,  35.4747]]],\n",
       "\n",
       "\n",
       "          [[[ 50.7995,  36.3377]]],\n",
       "\n",
       "\n",
       "          [[[156.7094,  54.5729]]]]],\n",
       "\n",
       "\n",
       "\n",
       "\n",
       "        [[[[[177.4995,  78.0351]]],\n",
       "\n",
       "\n",
       "          [[[ 68.2845,  28.5712]]],\n",
       "\n",
       "\n",
       "          [[[118.1130,  53.7489]]]]]])"
      ]
     },
     "execution_count": 162,
     "metadata": {},
     "output_type": "execute_result"
    }
   ],
   "source": [
    "proposed_anchor_grid.flip(0)"
   ]
  },
  {
   "cell_type": "markdown",
   "id": "6f8a60fa-0bf1-47c0-ac9e-a4e6692a9346",
   "metadata": {},
   "source": [
    "# Model EMA function"
   ]
  },
  {
   "cell_type": "markdown",
   "id": "ffe70d87-1375-4023-bf1f-54badb5aa44c",
   "metadata": {},
   "source": [
    "The EMA decay function is slightly different to what is usually seen. Instead of a constant decay, there is an exponentially increasing decay."
   ]
  },
  {
   "cell_type": "code",
   "execution_count": 167,
   "id": "e82f3f33-9a53-4d61-9fe1-ea8ad0333eee",
   "metadata": {},
   "outputs": [],
   "source": [
    "import math\n",
    "import matplotlib.pyplot as plt"
   ]
  },
  {
   "cell_type": "code",
   "execution_count": 168,
   "id": "de595665-480e-46cc-b660-968e9871745c",
   "metadata": {},
   "outputs": [],
   "source": [
    "decay = []\n",
    "for x in range(300):\n",
    "    decay.append(1 - math.exp(-x / 2000))"
   ]
  },
  {
   "cell_type": "code",
   "execution_count": 169,
   "id": "bdc0d955-cb64-4859-9af9-bf5ce5465219",
   "metadata": {},
   "outputs": [
    {
     "data": {
      "text/plain": [
       "[<matplotlib.lines.Line2D at 0x7f8c494081d0>]"
      ]
     },
     "execution_count": 169,
     "metadata": {},
     "output_type": "execute_result"
    },
    {
     "data": {
      "image/png": "[encoded data removed]",
      "text/plain": [
       "<Figure size 432x288 with 1 Axes>"
      ]
     },
     "metadata": {
      "needs_background": "light"
     },
     "output_type": "display_data"
    }
   ],
   "source": [
    "plt.plot(decay)"
   ]
  },
  {
   "cell_type": "code",
   "execution_count": 170,
   "id": "14d08191-a5d4-4a3e-b359-05d971ff4686",
   "metadata": {},
   "outputs": [],
   "source": [
    "class ModelEMA:\n",
    "    \"\"\" Model Exponential Moving Average from https://github.com/rwightman/pytorch-image-models\n",
    "    Keep a moving average of everything in the model state_dict (parameters and buffers).\n",
    "    This is intended to allow functionality like\n",
    "    https://www.tensorflow.org/api_docs/python/tf/train/ExponentialMovingAverage\n",
    "    A smoothed version of the weights is necessary for some training schemes to perform well.\n",
    "    This class is sensitive where it is initialized in the sequence of model init,\n",
    "    GPU assignment and distributed training wrappers.\n",
    "    \"\"\"\n",
    "\n",
    "    def __init__(self, model, decay=0.9999, updates=0):\n",
    "        # Create EMA\n",
    "        self.ema = deepcopy(model.module if is_parallel(model) else model).eval()  # FP32 EMA\n",
    "        # if next(model.parameters()).device.type != 'cpu':\n",
    "        #     self.ema.half()  # FP16 EMA\n",
    "        self.updates = updates  # number of EMA updates\n",
    "        self.decay = lambda x: decay * (1 - math.exp(-x / 2000))  # decay exponential ramp (to help early epochs)\n",
    "        for p in self.ema.parameters():\n",
    "            p.requires_grad_(False)\n",
    "\n",
    "    def update(self, model):\n",
    "        # Update EMA parameters\n",
    "        with torch.no_grad():\n",
    "            self.updates += 1\n",
    "            d = self.decay(self.updates)\n",
    "\n",
    "            msd = model.module.state_dict() if is_parallel(model) else model.state_dict()  # model state_dict\n",
    "            for k, v in self.ema.state_dict().items():\n",
    "                if v.dtype.is_floating_point:\n",
    "                    v *= d\n",
    "                    v += (1. - d) * msd[k].detach()\n",
    "\n",
    "    def update_attr(self, model, include=(), exclude=('process_group', 'reducer')):\n",
    "        # Update EMA attributes\n",
    "        copy_attr(self.ema, model, include, exclude)"
   ]
  },
  {
   "cell_type": "code",
   "execution_count": null,
   "id": "7b513f23-7405-43eb-8329-5fde44dcb5a5",
   "metadata": {},
   "outputs": [],
   "source": []
  }
 ],
 "metadata": {
  "kernelspec": {
   "display_name": "Python 3 (ipykernel)",
   "language": "python",
   "name": "python3"
  },
  "language_info": {
   "codemirror_mode": {
    "name": "ipython",
    "version": 3
   },
   "file_extension": ".py",
   "mimetype": "text/x-python",
   "name": "python",
   "nbconvert_exporter": "python",
   "pygments_lexer": "ipython3",
   "version": "3.7.13"
  }
 },
 "nbformat": 4,
 "nbformat_minor": 5
}
